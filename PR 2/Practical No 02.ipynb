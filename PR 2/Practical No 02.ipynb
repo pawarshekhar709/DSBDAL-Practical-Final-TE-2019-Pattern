{
 "cells": [
  {
   "cell_type": "markdown",
   "id": "9d2eccef",
   "metadata": {},
   "source": [
    "## Practical No 02\n",
    "\n",
    "Data Wrangling II\n",
    "- Create an “Academic performance” dataset of students and perform the following operations using Python.\n",
    "\n",
    "1. Scan all variables for missing values and inconsistencies. If there are missing values and/or inconsistencies, use any of the suitable techniques to deal with them.\n",
    "\n",
    "2. Scan all numeric variables for outliers. If there are outliers, use any of the suitable techniques to deal with them.\n",
    "\n",
    "3. Apply data transformations on at least one of the variables. The purpose of this transformation should be one of the following reasons: to change the scale for better understanding of the variable, to convert a non-linear relation into a linear one, or to decrease the skewness and convert the distribution into a normal distribution.\n",
    "\n",
    "- Reason and document your approach properly.\n",
    "\n"
   ]
  },
  {
   "cell_type": "code",
   "execution_count": 1,
   "id": "c6d1a504",
   "metadata": {},
   "outputs": [],
   "source": [
    "import numpy as np \n",
    "import pandas as pd \n",
    "import matplotlib.pyplot as plt\n",
    "import seaborn as sns\n",
    "import warnings\n",
    "warnings.filterwarnings(\"ignore\")"
   ]
  },
  {
   "cell_type": "code",
   "execution_count": 2,
   "id": "ce9a76ac",
   "metadata": {},
   "outputs": [
    {
     "data": {
      "text/html": [
       "<div>\n",
       "<style scoped>\n",
       "    .dataframe tbody tr th:only-of-type {\n",
       "        vertical-align: middle;\n",
       "    }\n",
       "\n",
       "    .dataframe tbody tr th {\n",
       "        vertical-align: top;\n",
       "    }\n",
       "\n",
       "    .dataframe thead th {\n",
       "        text-align: right;\n",
       "    }\n",
       "</style>\n",
       "<table border=\"1\" class=\"dataframe\">\n",
       "  <thead>\n",
       "    <tr style=\"text-align: right;\">\n",
       "      <th></th>\n",
       "      <th>COD_S11</th>\n",
       "      <th>GENDER</th>\n",
       "      <th>EDU_FATHER</th>\n",
       "      <th>EDU_MOTHER</th>\n",
       "      <th>OCC_FATHER</th>\n",
       "      <th>OCC_MOTHER</th>\n",
       "      <th>STRATUM</th>\n",
       "      <th>SISBEN</th>\n",
       "      <th>PEOPLE_HOUSE</th>\n",
       "      <th>Unnamed: 9</th>\n",
       "      <th>...</th>\n",
       "      <th>CC_PRO</th>\n",
       "      <th>ENG_PRO</th>\n",
       "      <th>WC_PRO</th>\n",
       "      <th>FEP_PRO</th>\n",
       "      <th>G_SC</th>\n",
       "      <th>PERCENTILE</th>\n",
       "      <th>2ND_DECILE</th>\n",
       "      <th>QUARTILE</th>\n",
       "      <th>SEL</th>\n",
       "      <th>SEL_IHE</th>\n",
       "    </tr>\n",
       "  </thead>\n",
       "  <tbody>\n",
       "    <tr>\n",
       "      <th>0</th>\n",
       "      <td>SB11201210000129</td>\n",
       "      <td>F</td>\n",
       "      <td>Incomplete Professional Education</td>\n",
       "      <td>Complete technique or technology</td>\n",
       "      <td>Technical or professional level employee</td>\n",
       "      <td>Home</td>\n",
       "      <td>Stratum 4</td>\n",
       "      <td>It is not classified by the SISBEN</td>\n",
       "      <td>Three</td>\n",
       "      <td>NaN</td>\n",
       "      <td>...</td>\n",
       "      <td>71</td>\n",
       "      <td>93</td>\n",
       "      <td>79</td>\n",
       "      <td>181</td>\n",
       "      <td>180</td>\n",
       "      <td>91</td>\n",
       "      <td>5</td>\n",
       "      <td>4</td>\n",
       "      <td>2</td>\n",
       "      <td>2</td>\n",
       "    </tr>\n",
       "    <tr>\n",
       "      <th>1</th>\n",
       "      <td>SB11201210000137</td>\n",
       "      <td>F</td>\n",
       "      <td>Complete Secundary</td>\n",
       "      <td>Complete professional education</td>\n",
       "      <td>Entrepreneur</td>\n",
       "      <td>Independent professional</td>\n",
       "      <td>Stratum 5</td>\n",
       "      <td>It is not classified by the SISBEN</td>\n",
       "      <td>Three</td>\n",
       "      <td>NaN</td>\n",
       "      <td>...</td>\n",
       "      <td>86</td>\n",
       "      <td>98</td>\n",
       "      <td>78</td>\n",
       "      <td>201</td>\n",
       "      <td>182</td>\n",
       "      <td>92</td>\n",
       "      <td>5</td>\n",
       "      <td>4</td>\n",
       "      <td>4</td>\n",
       "      <td>4</td>\n",
       "    </tr>\n",
       "    <tr>\n",
       "      <th>2</th>\n",
       "      <td>SB11201210005154</td>\n",
       "      <td>M</td>\n",
       "      <td>Not sure</td>\n",
       "      <td>Not sure</td>\n",
       "      <td>Independent</td>\n",
       "      <td>Home</td>\n",
       "      <td>Stratum 2</td>\n",
       "      <td>Level 2</td>\n",
       "      <td>Five</td>\n",
       "      <td>NaN</td>\n",
       "      <td>...</td>\n",
       "      <td>18</td>\n",
       "      <td>43</td>\n",
       "      <td>22</td>\n",
       "      <td>113</td>\n",
       "      <td>113</td>\n",
       "      <td>7</td>\n",
       "      <td>1</td>\n",
       "      <td>1</td>\n",
       "      <td>1</td>\n",
       "      <td>1</td>\n",
       "    </tr>\n",
       "    <tr>\n",
       "      <th>3</th>\n",
       "      <td>SB11201210007504</td>\n",
       "      <td>F</td>\n",
       "      <td>Not sure</td>\n",
       "      <td>Not sure</td>\n",
       "      <td>Other occupation</td>\n",
       "      <td>Independent</td>\n",
       "      <td>Stratum 2</td>\n",
       "      <td>It is not classified by the SISBEN</td>\n",
       "      <td>Three</td>\n",
       "      <td>NaN</td>\n",
       "      <td>...</td>\n",
       "      <td>76</td>\n",
       "      <td>80</td>\n",
       "      <td>48</td>\n",
       "      <td>137</td>\n",
       "      <td>157</td>\n",
       "      <td>67</td>\n",
       "      <td>4</td>\n",
       "      <td>3</td>\n",
       "      <td>2</td>\n",
       "      <td>2</td>\n",
       "    </tr>\n",
       "    <tr>\n",
       "      <th>4</th>\n",
       "      <td>SB11201210007548</td>\n",
       "      <td>M</td>\n",
       "      <td>Complete professional education</td>\n",
       "      <td>Complete professional education</td>\n",
       "      <td>Executive</td>\n",
       "      <td>Home</td>\n",
       "      <td>Stratum 4</td>\n",
       "      <td>It is not classified by the SISBEN</td>\n",
       "      <td>One</td>\n",
       "      <td>NaN</td>\n",
       "      <td>...</td>\n",
       "      <td>98</td>\n",
       "      <td>100</td>\n",
       "      <td>71</td>\n",
       "      <td>189</td>\n",
       "      <td>198</td>\n",
       "      <td>98</td>\n",
       "      <td>5</td>\n",
       "      <td>4</td>\n",
       "      <td>4</td>\n",
       "      <td>2</td>\n",
       "    </tr>\n",
       "    <tr>\n",
       "      <th>...</th>\n",
       "      <td>...</td>\n",
       "      <td>...</td>\n",
       "      <td>...</td>\n",
       "      <td>...</td>\n",
       "      <td>...</td>\n",
       "      <td>...</td>\n",
       "      <td>...</td>\n",
       "      <td>...</td>\n",
       "      <td>...</td>\n",
       "      <td>...</td>\n",
       "      <td>...</td>\n",
       "      <td>...</td>\n",
       "      <td>...</td>\n",
       "      <td>...</td>\n",
       "      <td>...</td>\n",
       "      <td>...</td>\n",
       "      <td>...</td>\n",
       "      <td>...</td>\n",
       "      <td>...</td>\n",
       "      <td>...</td>\n",
       "      <td>...</td>\n",
       "    </tr>\n",
       "    <tr>\n",
       "      <th>12406</th>\n",
       "      <td>SB11201420568705</td>\n",
       "      <td>M</td>\n",
       "      <td>Ninguno</td>\n",
       "      <td>Complete Secundary</td>\n",
       "      <td>Other occupation</td>\n",
       "      <td>Auxiliary or Administrative</td>\n",
       "      <td>Stratum 2</td>\n",
       "      <td>It is not classified by the SISBEN</td>\n",
       "      <td>Six</td>\n",
       "      <td>NaN</td>\n",
       "      <td>...</td>\n",
       "      <td>86</td>\n",
       "      <td>87</td>\n",
       "      <td>65</td>\n",
       "      <td>142</td>\n",
       "      <td>176</td>\n",
       "      <td>88</td>\n",
       "      <td>5</td>\n",
       "      <td>4</td>\n",
       "      <td>2</td>\n",
       "      <td>2</td>\n",
       "    </tr>\n",
       "    <tr>\n",
       "      <th>12407</th>\n",
       "      <td>SB11201420573045</td>\n",
       "      <td>M</td>\n",
       "      <td>Complete professional education</td>\n",
       "      <td>Complete Secundary</td>\n",
       "      <td>Executive</td>\n",
       "      <td>Other occupation</td>\n",
       "      <td>Stratum 2</td>\n",
       "      <td>Level 2</td>\n",
       "      <td>Five</td>\n",
       "      <td>NaN</td>\n",
       "      <td>...</td>\n",
       "      <td>44</td>\n",
       "      <td>11</td>\n",
       "      <td>0</td>\n",
       "      <td>127</td>\n",
       "      <td>107</td>\n",
       "      <td>4</td>\n",
       "      <td>1</td>\n",
       "      <td>1</td>\n",
       "      <td>4</td>\n",
       "      <td>2</td>\n",
       "    </tr>\n",
       "    <tr>\n",
       "      <th>12408</th>\n",
       "      <td>SB11201420578809</td>\n",
       "      <td>M</td>\n",
       "      <td>Complete technique or technology</td>\n",
       "      <td>Complete technique or technology</td>\n",
       "      <td>Retired</td>\n",
       "      <td>Home</td>\n",
       "      <td>Stratum 2</td>\n",
       "      <td>Level 2</td>\n",
       "      <td>Five</td>\n",
       "      <td>NaN</td>\n",
       "      <td>...</td>\n",
       "      <td>90</td>\n",
       "      <td>81</td>\n",
       "      <td>87</td>\n",
       "      <td>192</td>\n",
       "      <td>188</td>\n",
       "      <td>95</td>\n",
       "      <td>5</td>\n",
       "      <td>4</td>\n",
       "      <td>2</td>\n",
       "      <td>2</td>\n",
       "    </tr>\n",
       "    <tr>\n",
       "      <th>12409</th>\n",
       "      <td>SB11201420578812</td>\n",
       "      <td>F</td>\n",
       "      <td>Complete professional education</td>\n",
       "      <td>Complete professional education</td>\n",
       "      <td>Independent professional</td>\n",
       "      <td>Small entrepreneur</td>\n",
       "      <td>Stratum 3</td>\n",
       "      <td>It is not classified by the SISBEN</td>\n",
       "      <td>Seven</td>\n",
       "      <td>NaN</td>\n",
       "      <td>...</td>\n",
       "      <td>51</td>\n",
       "      <td>8</td>\n",
       "      <td>42</td>\n",
       "      <td>121</td>\n",
       "      <td>146</td>\n",
       "      <td>50</td>\n",
       "      <td>3</td>\n",
       "      <td>3</td>\n",
       "      <td>3</td>\n",
       "      <td>2</td>\n",
       "    </tr>\n",
       "    <tr>\n",
       "      <th>12410</th>\n",
       "      <td>SB11201420583232</td>\n",
       "      <td>M</td>\n",
       "      <td>Complete Secundary</td>\n",
       "      <td>Complete primary</td>\n",
       "      <td>Independent</td>\n",
       "      <td>Home</td>\n",
       "      <td>Stratum 3</td>\n",
       "      <td>Level 1</td>\n",
       "      <td>Four</td>\n",
       "      <td>NaN</td>\n",
       "      <td>...</td>\n",
       "      <td>91</td>\n",
       "      <td>79</td>\n",
       "      <td>47</td>\n",
       "      <td>193</td>\n",
       "      <td>178</td>\n",
       "      <td>89</td>\n",
       "      <td>5</td>\n",
       "      <td>4</td>\n",
       "      <td>2</td>\n",
       "      <td>4</td>\n",
       "    </tr>\n",
       "  </tbody>\n",
       "</table>\n",
       "<p>12411 rows × 45 columns</p>\n",
       "</div>"
      ],
      "text/plain": [
       "                COD_S11 GENDER                         EDU_FATHER  \\\n",
       "0      SB11201210000129      F  Incomplete Professional Education   \n",
       "1      SB11201210000137      F                 Complete Secundary   \n",
       "2      SB11201210005154      M                           Not sure   \n",
       "3      SB11201210007504      F                           Not sure   \n",
       "4      SB11201210007548      M    Complete professional education   \n",
       "...                 ...    ...                                ...   \n",
       "12406  SB11201420568705      M                            Ninguno   \n",
       "12407  SB11201420573045      M    Complete professional education   \n",
       "12408  SB11201420578809      M   Complete technique or technology   \n",
       "12409  SB11201420578812      F    Complete professional education   \n",
       "12410  SB11201420583232      M                 Complete Secundary   \n",
       "\n",
       "                             EDU_MOTHER  \\\n",
       "0      Complete technique or technology   \n",
       "1       Complete professional education   \n",
       "2                              Not sure   \n",
       "3                              Not sure   \n",
       "4       Complete professional education   \n",
       "...                                 ...   \n",
       "12406                Complete Secundary   \n",
       "12407                Complete Secundary   \n",
       "12408  Complete technique or technology   \n",
       "12409   Complete professional education   \n",
       "12410                 Complete primary    \n",
       "\n",
       "                                     OCC_FATHER                   OCC_MOTHER  \\\n",
       "0      Technical or professional level employee                         Home   \n",
       "1                                 Entrepreneur      Independent professional   \n",
       "2                                   Independent                         Home   \n",
       "3                              Other occupation                  Independent   \n",
       "4                                     Executive                         Home   \n",
       "...                                         ...                          ...   \n",
       "12406                          Other occupation  Auxiliary or Administrative   \n",
       "12407                                 Executive             Other occupation   \n",
       "12408                                   Retired                         Home   \n",
       "12409                  Independent professional          Small entrepreneur    \n",
       "12410                               Independent                         Home   \n",
       "\n",
       "         STRATUM                              SISBEN PEOPLE_HOUSE  Unnamed: 9  \\\n",
       "0      Stratum 4  It is not classified by the SISBEN        Three         NaN   \n",
       "1      Stratum 5  It is not classified by the SISBEN        Three         NaN   \n",
       "2      Stratum 2                             Level 2         Five         NaN   \n",
       "3      Stratum 2  It is not classified by the SISBEN        Three         NaN   \n",
       "4      Stratum 4  It is not classified by the SISBEN          One         NaN   \n",
       "...          ...                                 ...          ...         ...   \n",
       "12406  Stratum 2  It is not classified by the SISBEN          Six         NaN   \n",
       "12407  Stratum 2                             Level 2         Five         NaN   \n",
       "12408  Stratum 2                             Level 2         Five         NaN   \n",
       "12409  Stratum 3  It is not classified by the SISBEN        Seven         NaN   \n",
       "12410  Stratum 3                             Level 1         Four         NaN   \n",
       "\n",
       "       ... CC_PRO ENG_PRO WC_PRO FEP_PRO G_SC PERCENTILE 2ND_DECILE QUARTILE  \\\n",
       "0      ...     71      93     79     181  180         91          5        4   \n",
       "1      ...     86      98     78     201  182         92          5        4   \n",
       "2      ...     18      43     22     113  113          7          1        1   \n",
       "3      ...     76      80     48     137  157         67          4        3   \n",
       "4      ...     98     100     71     189  198         98          5        4   \n",
       "...    ...    ...     ...    ...     ...  ...        ...        ...      ...   \n",
       "12406  ...     86      87     65     142  176         88          5        4   \n",
       "12407  ...     44      11      0     127  107          4          1        1   \n",
       "12408  ...     90      81     87     192  188         95          5        4   \n",
       "12409  ...     51       8     42     121  146         50          3        3   \n",
       "12410  ...     91      79     47     193  178         89          5        4   \n",
       "\n",
       "      SEL SEL_IHE  \n",
       "0       2       2  \n",
       "1       4       4  \n",
       "2       1       1  \n",
       "3       2       2  \n",
       "4       4       2  \n",
       "...    ..     ...  \n",
       "12406   2       2  \n",
       "12407   4       2  \n",
       "12408   2       2  \n",
       "12409   3       2  \n",
       "12410   2       4  \n",
       "\n",
       "[12411 rows x 45 columns]"
      ]
     },
     "execution_count": 2,
     "metadata": {},
     "output_type": "execute_result"
    }
   ],
   "source": [
    "df = pd.read_excel('data_academic_performance.xlsx') \n",
    "df"
   ]
  },
  {
   "cell_type": "code",
   "execution_count": 3,
   "id": "8b9a6f72",
   "metadata": {},
   "outputs": [
    {
     "data": {
      "text/html": [
       "<div>\n",
       "<style scoped>\n",
       "    .dataframe tbody tr th:only-of-type {\n",
       "        vertical-align: middle;\n",
       "    }\n",
       "\n",
       "    .dataframe tbody tr th {\n",
       "        vertical-align: top;\n",
       "    }\n",
       "\n",
       "    .dataframe thead th {\n",
       "        text-align: right;\n",
       "    }\n",
       "</style>\n",
       "<table border=\"1\" class=\"dataframe\">\n",
       "  <thead>\n",
       "    <tr style=\"text-align: right;\">\n",
       "      <th></th>\n",
       "      <th>COD_S11</th>\n",
       "      <th>GENDER</th>\n",
       "      <th>EDU_FATHER</th>\n",
       "      <th>EDU_MOTHER</th>\n",
       "      <th>OCC_FATHER</th>\n",
       "      <th>OCC_MOTHER</th>\n",
       "      <th>STRATUM</th>\n",
       "      <th>SISBEN</th>\n",
       "      <th>PEOPLE_HOUSE</th>\n",
       "      <th>Unnamed: 9</th>\n",
       "      <th>...</th>\n",
       "      <th>CC_PRO</th>\n",
       "      <th>ENG_PRO</th>\n",
       "      <th>WC_PRO</th>\n",
       "      <th>FEP_PRO</th>\n",
       "      <th>G_SC</th>\n",
       "      <th>PERCENTILE</th>\n",
       "      <th>2ND_DECILE</th>\n",
       "      <th>QUARTILE</th>\n",
       "      <th>SEL</th>\n",
       "      <th>SEL_IHE</th>\n",
       "    </tr>\n",
       "  </thead>\n",
       "  <tbody>\n",
       "    <tr>\n",
       "      <th>0</th>\n",
       "      <td>SB11201210000129</td>\n",
       "      <td>F</td>\n",
       "      <td>Incomplete Professional Education</td>\n",
       "      <td>Complete technique or technology</td>\n",
       "      <td>Technical or professional level employee</td>\n",
       "      <td>Home</td>\n",
       "      <td>Stratum 4</td>\n",
       "      <td>It is not classified by the SISBEN</td>\n",
       "      <td>Three</td>\n",
       "      <td>NaN</td>\n",
       "      <td>...</td>\n",
       "      <td>71</td>\n",
       "      <td>93</td>\n",
       "      <td>79</td>\n",
       "      <td>181</td>\n",
       "      <td>180</td>\n",
       "      <td>91</td>\n",
       "      <td>5</td>\n",
       "      <td>4</td>\n",
       "      <td>2</td>\n",
       "      <td>2</td>\n",
       "    </tr>\n",
       "    <tr>\n",
       "      <th>1</th>\n",
       "      <td>SB11201210000137</td>\n",
       "      <td>F</td>\n",
       "      <td>Complete Secundary</td>\n",
       "      <td>Complete professional education</td>\n",
       "      <td>Entrepreneur</td>\n",
       "      <td>Independent professional</td>\n",
       "      <td>Stratum 5</td>\n",
       "      <td>It is not classified by the SISBEN</td>\n",
       "      <td>Three</td>\n",
       "      <td>NaN</td>\n",
       "      <td>...</td>\n",
       "      <td>86</td>\n",
       "      <td>98</td>\n",
       "      <td>78</td>\n",
       "      <td>201</td>\n",
       "      <td>182</td>\n",
       "      <td>92</td>\n",
       "      <td>5</td>\n",
       "      <td>4</td>\n",
       "      <td>4</td>\n",
       "      <td>4</td>\n",
       "    </tr>\n",
       "    <tr>\n",
       "      <th>2</th>\n",
       "      <td>SB11201210005154</td>\n",
       "      <td>M</td>\n",
       "      <td>Not sure</td>\n",
       "      <td>Not sure</td>\n",
       "      <td>Independent</td>\n",
       "      <td>Home</td>\n",
       "      <td>Stratum 2</td>\n",
       "      <td>Level 2</td>\n",
       "      <td>Five</td>\n",
       "      <td>NaN</td>\n",
       "      <td>...</td>\n",
       "      <td>18</td>\n",
       "      <td>43</td>\n",
       "      <td>22</td>\n",
       "      <td>113</td>\n",
       "      <td>113</td>\n",
       "      <td>7</td>\n",
       "      <td>1</td>\n",
       "      <td>1</td>\n",
       "      <td>1</td>\n",
       "      <td>1</td>\n",
       "    </tr>\n",
       "    <tr>\n",
       "      <th>3</th>\n",
       "      <td>SB11201210007504</td>\n",
       "      <td>F</td>\n",
       "      <td>Not sure</td>\n",
       "      <td>Not sure</td>\n",
       "      <td>Other occupation</td>\n",
       "      <td>Independent</td>\n",
       "      <td>Stratum 2</td>\n",
       "      <td>It is not classified by the SISBEN</td>\n",
       "      <td>Three</td>\n",
       "      <td>NaN</td>\n",
       "      <td>...</td>\n",
       "      <td>76</td>\n",
       "      <td>80</td>\n",
       "      <td>48</td>\n",
       "      <td>137</td>\n",
       "      <td>157</td>\n",
       "      <td>67</td>\n",
       "      <td>4</td>\n",
       "      <td>3</td>\n",
       "      <td>2</td>\n",
       "      <td>2</td>\n",
       "    </tr>\n",
       "    <tr>\n",
       "      <th>4</th>\n",
       "      <td>SB11201210007548</td>\n",
       "      <td>M</td>\n",
       "      <td>Complete professional education</td>\n",
       "      <td>Complete professional education</td>\n",
       "      <td>Executive</td>\n",
       "      <td>Home</td>\n",
       "      <td>Stratum 4</td>\n",
       "      <td>It is not classified by the SISBEN</td>\n",
       "      <td>One</td>\n",
       "      <td>NaN</td>\n",
       "      <td>...</td>\n",
       "      <td>98</td>\n",
       "      <td>100</td>\n",
       "      <td>71</td>\n",
       "      <td>189</td>\n",
       "      <td>198</td>\n",
       "      <td>98</td>\n",
       "      <td>5</td>\n",
       "      <td>4</td>\n",
       "      <td>4</td>\n",
       "      <td>2</td>\n",
       "    </tr>\n",
       "  </tbody>\n",
       "</table>\n",
       "<p>5 rows × 45 columns</p>\n",
       "</div>"
      ],
      "text/plain": [
       "            COD_S11 GENDER                         EDU_FATHER  \\\n",
       "0  SB11201210000129      F  Incomplete Professional Education   \n",
       "1  SB11201210000137      F                 Complete Secundary   \n",
       "2  SB11201210005154      M                           Not sure   \n",
       "3  SB11201210007504      F                           Not sure   \n",
       "4  SB11201210007548      M    Complete professional education   \n",
       "\n",
       "                         EDU_MOTHER                                OCC_FATHER  \\\n",
       "0  Complete technique or technology  Technical or professional level employee   \n",
       "1   Complete professional education                             Entrepreneur    \n",
       "2                          Not sure                               Independent   \n",
       "3                          Not sure                          Other occupation   \n",
       "4   Complete professional education                                 Executive   \n",
       "\n",
       "                 OCC_MOTHER    STRATUM                              SISBEN  \\\n",
       "0                      Home  Stratum 4  It is not classified by the SISBEN   \n",
       "1  Independent professional  Stratum 5  It is not classified by the SISBEN   \n",
       "2                      Home  Stratum 2                             Level 2   \n",
       "3               Independent  Stratum 2  It is not classified by the SISBEN   \n",
       "4                      Home  Stratum 4  It is not classified by the SISBEN   \n",
       "\n",
       "  PEOPLE_HOUSE  Unnamed: 9  ... CC_PRO ENG_PRO WC_PRO FEP_PRO G_SC PERCENTILE  \\\n",
       "0        Three         NaN  ...     71      93     79     181  180         91   \n",
       "1        Three         NaN  ...     86      98     78     201  182         92   \n",
       "2         Five         NaN  ...     18      43     22     113  113          7   \n",
       "3        Three         NaN  ...     76      80     48     137  157         67   \n",
       "4          One         NaN  ...     98     100     71     189  198         98   \n",
       "\n",
       "  2ND_DECILE QUARTILE SEL SEL_IHE  \n",
       "0          5        4   2       2  \n",
       "1          5        4   4       4  \n",
       "2          1        1   1       1  \n",
       "3          4        3   2       2  \n",
       "4          5        4   4       2  \n",
       "\n",
       "[5 rows x 45 columns]"
      ]
     },
     "execution_count": 3,
     "metadata": {},
     "output_type": "execute_result"
    }
   ],
   "source": [
    "df.head() # It's showing top 5 result"
   ]
  },
  {
   "cell_type": "code",
   "execution_count": 4,
   "id": "298d324f",
   "metadata": {},
   "outputs": [
    {
     "data": {
      "text/html": [
       "<div>\n",
       "<style scoped>\n",
       "    .dataframe tbody tr th:only-of-type {\n",
       "        vertical-align: middle;\n",
       "    }\n",
       "\n",
       "    .dataframe tbody tr th {\n",
       "        vertical-align: top;\n",
       "    }\n",
       "\n",
       "    .dataframe thead th {\n",
       "        text-align: right;\n",
       "    }\n",
       "</style>\n",
       "<table border=\"1\" class=\"dataframe\">\n",
       "  <thead>\n",
       "    <tr style=\"text-align: right;\">\n",
       "      <th></th>\n",
       "      <th>COD_S11</th>\n",
       "      <th>GENDER</th>\n",
       "      <th>EDU_FATHER</th>\n",
       "      <th>EDU_MOTHER</th>\n",
       "      <th>OCC_FATHER</th>\n",
       "      <th>OCC_MOTHER</th>\n",
       "      <th>STRATUM</th>\n",
       "      <th>SISBEN</th>\n",
       "      <th>PEOPLE_HOUSE</th>\n",
       "      <th>Unnamed: 9</th>\n",
       "      <th>...</th>\n",
       "      <th>CC_PRO</th>\n",
       "      <th>ENG_PRO</th>\n",
       "      <th>WC_PRO</th>\n",
       "      <th>FEP_PRO</th>\n",
       "      <th>G_SC</th>\n",
       "      <th>PERCENTILE</th>\n",
       "      <th>2ND_DECILE</th>\n",
       "      <th>QUARTILE</th>\n",
       "      <th>SEL</th>\n",
       "      <th>SEL_IHE</th>\n",
       "    </tr>\n",
       "  </thead>\n",
       "  <tbody>\n",
       "    <tr>\n",
       "      <th>12406</th>\n",
       "      <td>SB11201420568705</td>\n",
       "      <td>M</td>\n",
       "      <td>Ninguno</td>\n",
       "      <td>Complete Secundary</td>\n",
       "      <td>Other occupation</td>\n",
       "      <td>Auxiliary or Administrative</td>\n",
       "      <td>Stratum 2</td>\n",
       "      <td>It is not classified by the SISBEN</td>\n",
       "      <td>Six</td>\n",
       "      <td>NaN</td>\n",
       "      <td>...</td>\n",
       "      <td>86</td>\n",
       "      <td>87</td>\n",
       "      <td>65</td>\n",
       "      <td>142</td>\n",
       "      <td>176</td>\n",
       "      <td>88</td>\n",
       "      <td>5</td>\n",
       "      <td>4</td>\n",
       "      <td>2</td>\n",
       "      <td>2</td>\n",
       "    </tr>\n",
       "    <tr>\n",
       "      <th>12407</th>\n",
       "      <td>SB11201420573045</td>\n",
       "      <td>M</td>\n",
       "      <td>Complete professional education</td>\n",
       "      <td>Complete Secundary</td>\n",
       "      <td>Executive</td>\n",
       "      <td>Other occupation</td>\n",
       "      <td>Stratum 2</td>\n",
       "      <td>Level 2</td>\n",
       "      <td>Five</td>\n",
       "      <td>NaN</td>\n",
       "      <td>...</td>\n",
       "      <td>44</td>\n",
       "      <td>11</td>\n",
       "      <td>0</td>\n",
       "      <td>127</td>\n",
       "      <td>107</td>\n",
       "      <td>4</td>\n",
       "      <td>1</td>\n",
       "      <td>1</td>\n",
       "      <td>4</td>\n",
       "      <td>2</td>\n",
       "    </tr>\n",
       "    <tr>\n",
       "      <th>12408</th>\n",
       "      <td>SB11201420578809</td>\n",
       "      <td>M</td>\n",
       "      <td>Complete technique or technology</td>\n",
       "      <td>Complete technique or technology</td>\n",
       "      <td>Retired</td>\n",
       "      <td>Home</td>\n",
       "      <td>Stratum 2</td>\n",
       "      <td>Level 2</td>\n",
       "      <td>Five</td>\n",
       "      <td>NaN</td>\n",
       "      <td>...</td>\n",
       "      <td>90</td>\n",
       "      <td>81</td>\n",
       "      <td>87</td>\n",
       "      <td>192</td>\n",
       "      <td>188</td>\n",
       "      <td>95</td>\n",
       "      <td>5</td>\n",
       "      <td>4</td>\n",
       "      <td>2</td>\n",
       "      <td>2</td>\n",
       "    </tr>\n",
       "    <tr>\n",
       "      <th>12409</th>\n",
       "      <td>SB11201420578812</td>\n",
       "      <td>F</td>\n",
       "      <td>Complete professional education</td>\n",
       "      <td>Complete professional education</td>\n",
       "      <td>Independent professional</td>\n",
       "      <td>Small entrepreneur</td>\n",
       "      <td>Stratum 3</td>\n",
       "      <td>It is not classified by the SISBEN</td>\n",
       "      <td>Seven</td>\n",
       "      <td>NaN</td>\n",
       "      <td>...</td>\n",
       "      <td>51</td>\n",
       "      <td>8</td>\n",
       "      <td>42</td>\n",
       "      <td>121</td>\n",
       "      <td>146</td>\n",
       "      <td>50</td>\n",
       "      <td>3</td>\n",
       "      <td>3</td>\n",
       "      <td>3</td>\n",
       "      <td>2</td>\n",
       "    </tr>\n",
       "    <tr>\n",
       "      <th>12410</th>\n",
       "      <td>SB11201420583232</td>\n",
       "      <td>M</td>\n",
       "      <td>Complete Secundary</td>\n",
       "      <td>Complete primary</td>\n",
       "      <td>Independent</td>\n",
       "      <td>Home</td>\n",
       "      <td>Stratum 3</td>\n",
       "      <td>Level 1</td>\n",
       "      <td>Four</td>\n",
       "      <td>NaN</td>\n",
       "      <td>...</td>\n",
       "      <td>91</td>\n",
       "      <td>79</td>\n",
       "      <td>47</td>\n",
       "      <td>193</td>\n",
       "      <td>178</td>\n",
       "      <td>89</td>\n",
       "      <td>5</td>\n",
       "      <td>4</td>\n",
       "      <td>2</td>\n",
       "      <td>4</td>\n",
       "    </tr>\n",
       "  </tbody>\n",
       "</table>\n",
       "<p>5 rows × 45 columns</p>\n",
       "</div>"
      ],
      "text/plain": [
       "                COD_S11 GENDER                        EDU_FATHER  \\\n",
       "12406  SB11201420568705      M                           Ninguno   \n",
       "12407  SB11201420573045      M   Complete professional education   \n",
       "12408  SB11201420578809      M  Complete technique or technology   \n",
       "12409  SB11201420578812      F   Complete professional education   \n",
       "12410  SB11201420583232      M                Complete Secundary   \n",
       "\n",
       "                             EDU_MOTHER                OCC_FATHER  \\\n",
       "12406                Complete Secundary          Other occupation   \n",
       "12407                Complete Secundary                 Executive   \n",
       "12408  Complete technique or technology                   Retired   \n",
       "12409   Complete professional education  Independent professional   \n",
       "12410                 Complete primary                Independent   \n",
       "\n",
       "                        OCC_MOTHER    STRATUM  \\\n",
       "12406  Auxiliary or Administrative  Stratum 2   \n",
       "12407             Other occupation  Stratum 2   \n",
       "12408                         Home  Stratum 2   \n",
       "12409          Small entrepreneur   Stratum 3   \n",
       "12410                         Home  Stratum 3   \n",
       "\n",
       "                                   SISBEN PEOPLE_HOUSE  Unnamed: 9  ...  \\\n",
       "12406  It is not classified by the SISBEN          Six         NaN  ...   \n",
       "12407                             Level 2         Five         NaN  ...   \n",
       "12408                             Level 2         Five         NaN  ...   \n",
       "12409  It is not classified by the SISBEN        Seven         NaN  ...   \n",
       "12410                             Level 1         Four         NaN  ...   \n",
       "\n",
       "      CC_PRO ENG_PRO WC_PRO FEP_PRO G_SC PERCENTILE 2ND_DECILE QUARTILE SEL  \\\n",
       "12406     86      87     65     142  176         88          5        4   2   \n",
       "12407     44      11      0     127  107          4          1        1   4   \n",
       "12408     90      81     87     192  188         95          5        4   2   \n",
       "12409     51       8     42     121  146         50          3        3   3   \n",
       "12410     91      79     47     193  178         89          5        4   2   \n",
       "\n",
       "      SEL_IHE  \n",
       "12406       2  \n",
       "12407       2  \n",
       "12408       2  \n",
       "12409       2  \n",
       "12410       4  \n",
       "\n",
       "[5 rows x 45 columns]"
      ]
     },
     "execution_count": 4,
     "metadata": {},
     "output_type": "execute_result"
    }
   ],
   "source": [
    "df.tail() # It's showing bottom 5 result"
   ]
  },
  {
   "cell_type": "markdown",
   "id": "a9592274",
   "metadata": {},
   "source": [
    "1. Scan all variables for missing values and inconsistencies. If there are missing values and/or inconsistencies, use any of the suitable techniques to deal with them."
   ]
  },
  {
   "cell_type": "code",
   "execution_count": 5,
   "id": "3d3a2b56",
   "metadata": {},
   "outputs": [
    {
     "data": {
      "text/plain": [
       "COD_S11                 0\n",
       "GENDER                  0\n",
       "EDU_FATHER              0\n",
       "EDU_MOTHER              0\n",
       "OCC_FATHER              0\n",
       "OCC_MOTHER              0\n",
       "STRATUM                 0\n",
       "SISBEN                  0\n",
       "PEOPLE_HOUSE            0\n",
       "Unnamed: 9          12411\n",
       "INTERNET                0\n",
       "TV                      0\n",
       "COMPUTER                0\n",
       "WASHING_MCH             0\n",
       "MIC_OVEN                0\n",
       "CAR                     0\n",
       "DVD                     0\n",
       "FRESH                   0\n",
       "PHONE                   0\n",
       "MOBILE                  0\n",
       "REVENUE                 0\n",
       "JOB                     0\n",
       "SCHOOL_NAME             0\n",
       "SCHOOL_NAT              0\n",
       "SCHOOL_TYPE             0\n",
       "MAT_S11                 0\n",
       "CR_S11                  0\n",
       "CC_S11                  0\n",
       "BIO_S11                 0\n",
       "ENG_S11                 0\n",
       "Cod_SPro                0\n",
       "UNIVERSITY              0\n",
       "ACADEMIC_PROGRAM        0\n",
       "QR_PRO                  0\n",
       "CR_PRO                  0\n",
       "CC_PRO                  0\n",
       "ENG_PRO                 0\n",
       "WC_PRO                  0\n",
       "FEP_PRO                 0\n",
       "G_SC                    0\n",
       "PERCENTILE              0\n",
       "2ND_DECILE              0\n",
       "QUARTILE                0\n",
       "SEL                     0\n",
       "SEL_IHE                 0\n",
       "dtype: int64"
      ]
     },
     "execution_count": 5,
     "metadata": {},
     "output_type": "execute_result"
    }
   ],
   "source": [
    "df.isnull().sum() # Caluclating the Null values"
   ]
  },
  {
   "cell_type": "code",
   "execution_count": 6,
   "id": "bbc9f927",
   "metadata": {},
   "outputs": [],
   "source": [
    "df.drop('Unnamed: 9',axis=1,inplace=True) # Droping Cabin Column becasue here lots of null values so it's not possible to fill na values."
   ]
  },
  {
   "cell_type": "code",
   "execution_count": 7,
   "id": "a4888e16",
   "metadata": {},
   "outputs": [],
   "source": [
    "df.dropna(inplace=True)"
   ]
  },
  {
   "cell_type": "code",
   "execution_count": 8,
   "id": "99469c87",
   "metadata": {},
   "outputs": [
    {
     "data": {
      "text/html": [
       "<div>\n",
       "<style scoped>\n",
       "    .dataframe tbody tr th:only-of-type {\n",
       "        vertical-align: middle;\n",
       "    }\n",
       "\n",
       "    .dataframe tbody tr th {\n",
       "        vertical-align: top;\n",
       "    }\n",
       "\n",
       "    .dataframe thead th {\n",
       "        text-align: right;\n",
       "    }\n",
       "</style>\n",
       "<table border=\"1\" class=\"dataframe\">\n",
       "  <thead>\n",
       "    <tr style=\"text-align: right;\">\n",
       "      <th></th>\n",
       "      <th>COD_S11</th>\n",
       "      <th>GENDER</th>\n",
       "      <th>EDU_FATHER</th>\n",
       "      <th>EDU_MOTHER</th>\n",
       "      <th>OCC_FATHER</th>\n",
       "      <th>OCC_MOTHER</th>\n",
       "      <th>STRATUM</th>\n",
       "      <th>SISBEN</th>\n",
       "      <th>PEOPLE_HOUSE</th>\n",
       "      <th>INTERNET</th>\n",
       "      <th>...</th>\n",
       "      <th>CC_PRO</th>\n",
       "      <th>ENG_PRO</th>\n",
       "      <th>WC_PRO</th>\n",
       "      <th>FEP_PRO</th>\n",
       "      <th>G_SC</th>\n",
       "      <th>PERCENTILE</th>\n",
       "      <th>2ND_DECILE</th>\n",
       "      <th>QUARTILE</th>\n",
       "      <th>SEL</th>\n",
       "      <th>SEL_IHE</th>\n",
       "    </tr>\n",
       "  </thead>\n",
       "  <tbody>\n",
       "    <tr>\n",
       "      <th>0</th>\n",
       "      <td>SB11201210000129</td>\n",
       "      <td>F</td>\n",
       "      <td>Incomplete Professional Education</td>\n",
       "      <td>Complete technique or technology</td>\n",
       "      <td>Technical or professional level employee</td>\n",
       "      <td>Home</td>\n",
       "      <td>Stratum 4</td>\n",
       "      <td>It is not classified by the SISBEN</td>\n",
       "      <td>Three</td>\n",
       "      <td>Yes</td>\n",
       "      <td>...</td>\n",
       "      <td>71</td>\n",
       "      <td>93</td>\n",
       "      <td>79</td>\n",
       "      <td>181</td>\n",
       "      <td>180</td>\n",
       "      <td>91</td>\n",
       "      <td>5</td>\n",
       "      <td>4</td>\n",
       "      <td>2</td>\n",
       "      <td>2</td>\n",
       "    </tr>\n",
       "    <tr>\n",
       "      <th>1</th>\n",
       "      <td>SB11201210000137</td>\n",
       "      <td>F</td>\n",
       "      <td>Complete Secundary</td>\n",
       "      <td>Complete professional education</td>\n",
       "      <td>Entrepreneur</td>\n",
       "      <td>Independent professional</td>\n",
       "      <td>Stratum 5</td>\n",
       "      <td>It is not classified by the SISBEN</td>\n",
       "      <td>Three</td>\n",
       "      <td>Yes</td>\n",
       "      <td>...</td>\n",
       "      <td>86</td>\n",
       "      <td>98</td>\n",
       "      <td>78</td>\n",
       "      <td>201</td>\n",
       "      <td>182</td>\n",
       "      <td>92</td>\n",
       "      <td>5</td>\n",
       "      <td>4</td>\n",
       "      <td>4</td>\n",
       "      <td>4</td>\n",
       "    </tr>\n",
       "    <tr>\n",
       "      <th>2</th>\n",
       "      <td>SB11201210005154</td>\n",
       "      <td>M</td>\n",
       "      <td>Not sure</td>\n",
       "      <td>Not sure</td>\n",
       "      <td>Independent</td>\n",
       "      <td>Home</td>\n",
       "      <td>Stratum 2</td>\n",
       "      <td>Level 2</td>\n",
       "      <td>Five</td>\n",
       "      <td>No</td>\n",
       "      <td>...</td>\n",
       "      <td>18</td>\n",
       "      <td>43</td>\n",
       "      <td>22</td>\n",
       "      <td>113</td>\n",
       "      <td>113</td>\n",
       "      <td>7</td>\n",
       "      <td>1</td>\n",
       "      <td>1</td>\n",
       "      <td>1</td>\n",
       "      <td>1</td>\n",
       "    </tr>\n",
       "    <tr>\n",
       "      <th>3</th>\n",
       "      <td>SB11201210007504</td>\n",
       "      <td>F</td>\n",
       "      <td>Not sure</td>\n",
       "      <td>Not sure</td>\n",
       "      <td>Other occupation</td>\n",
       "      <td>Independent</td>\n",
       "      <td>Stratum 2</td>\n",
       "      <td>It is not classified by the SISBEN</td>\n",
       "      <td>Three</td>\n",
       "      <td>Yes</td>\n",
       "      <td>...</td>\n",
       "      <td>76</td>\n",
       "      <td>80</td>\n",
       "      <td>48</td>\n",
       "      <td>137</td>\n",
       "      <td>157</td>\n",
       "      <td>67</td>\n",
       "      <td>4</td>\n",
       "      <td>3</td>\n",
       "      <td>2</td>\n",
       "      <td>2</td>\n",
       "    </tr>\n",
       "    <tr>\n",
       "      <th>4</th>\n",
       "      <td>SB11201210007548</td>\n",
       "      <td>M</td>\n",
       "      <td>Complete professional education</td>\n",
       "      <td>Complete professional education</td>\n",
       "      <td>Executive</td>\n",
       "      <td>Home</td>\n",
       "      <td>Stratum 4</td>\n",
       "      <td>It is not classified by the SISBEN</td>\n",
       "      <td>One</td>\n",
       "      <td>Yes</td>\n",
       "      <td>...</td>\n",
       "      <td>98</td>\n",
       "      <td>100</td>\n",
       "      <td>71</td>\n",
       "      <td>189</td>\n",
       "      <td>198</td>\n",
       "      <td>98</td>\n",
       "      <td>5</td>\n",
       "      <td>4</td>\n",
       "      <td>4</td>\n",
       "      <td>2</td>\n",
       "    </tr>\n",
       "  </tbody>\n",
       "</table>\n",
       "<p>5 rows × 44 columns</p>\n",
       "</div>"
      ],
      "text/plain": [
       "            COD_S11 GENDER                         EDU_FATHER  \\\n",
       "0  SB11201210000129      F  Incomplete Professional Education   \n",
       "1  SB11201210000137      F                 Complete Secundary   \n",
       "2  SB11201210005154      M                           Not sure   \n",
       "3  SB11201210007504      F                           Not sure   \n",
       "4  SB11201210007548      M    Complete professional education   \n",
       "\n",
       "                         EDU_MOTHER                                OCC_FATHER  \\\n",
       "0  Complete technique or technology  Technical or professional level employee   \n",
       "1   Complete professional education                             Entrepreneur    \n",
       "2                          Not sure                               Independent   \n",
       "3                          Not sure                          Other occupation   \n",
       "4   Complete professional education                                 Executive   \n",
       "\n",
       "                 OCC_MOTHER    STRATUM                              SISBEN  \\\n",
       "0                      Home  Stratum 4  It is not classified by the SISBEN   \n",
       "1  Independent professional  Stratum 5  It is not classified by the SISBEN   \n",
       "2                      Home  Stratum 2                             Level 2   \n",
       "3               Independent  Stratum 2  It is not classified by the SISBEN   \n",
       "4                      Home  Stratum 4  It is not classified by the SISBEN   \n",
       "\n",
       "  PEOPLE_HOUSE INTERNET  ... CC_PRO ENG_PRO WC_PRO FEP_PRO G_SC PERCENTILE  \\\n",
       "0        Three      Yes  ...     71      93     79     181  180         91   \n",
       "1        Three      Yes  ...     86      98     78     201  182         92   \n",
       "2         Five       No  ...     18      43     22     113  113          7   \n",
       "3        Three      Yes  ...     76      80     48     137  157         67   \n",
       "4          One      Yes  ...     98     100     71     189  198         98   \n",
       "\n",
       "  2ND_DECILE QUARTILE SEL SEL_IHE  \n",
       "0          5        4   2       2  \n",
       "1          5        4   4       4  \n",
       "2          1        1   1       1  \n",
       "3          4        3   2       2  \n",
       "4          5        4   4       2  \n",
       "\n",
       "[5 rows x 44 columns]"
      ]
     },
     "execution_count": 8,
     "metadata": {},
     "output_type": "execute_result"
    }
   ],
   "source": [
    "df.head()"
   ]
  },
  {
   "cell_type": "code",
   "execution_count": 9,
   "id": "751cfdce",
   "metadata": {},
   "outputs": [
    {
     "data": {
      "text/plain": [
       "COD_S11             0\n",
       "GENDER              0\n",
       "EDU_FATHER          0\n",
       "EDU_MOTHER          0\n",
       "OCC_FATHER          0\n",
       "OCC_MOTHER          0\n",
       "STRATUM             0\n",
       "SISBEN              0\n",
       "PEOPLE_HOUSE        0\n",
       "INTERNET            0\n",
       "TV                  0\n",
       "COMPUTER            0\n",
       "WASHING_MCH         0\n",
       "MIC_OVEN            0\n",
       "CAR                 0\n",
       "DVD                 0\n",
       "FRESH               0\n",
       "PHONE               0\n",
       "MOBILE              0\n",
       "REVENUE             0\n",
       "JOB                 0\n",
       "SCHOOL_NAME         0\n",
       "SCHOOL_NAT          0\n",
       "SCHOOL_TYPE         0\n",
       "MAT_S11             0\n",
       "CR_S11              0\n",
       "CC_S11              0\n",
       "BIO_S11             0\n",
       "ENG_S11             0\n",
       "Cod_SPro            0\n",
       "UNIVERSITY          0\n",
       "ACADEMIC_PROGRAM    0\n",
       "QR_PRO              0\n",
       "CR_PRO              0\n",
       "CC_PRO              0\n",
       "ENG_PRO             0\n",
       "WC_PRO              0\n",
       "FEP_PRO             0\n",
       "G_SC                0\n",
       "PERCENTILE          0\n",
       "2ND_DECILE          0\n",
       "QUARTILE            0\n",
       "SEL                 0\n",
       "SEL_IHE             0\n",
       "dtype: int64"
      ]
     },
     "execution_count": 9,
     "metadata": {},
     "output_type": "execute_result"
    }
   ],
   "source": [
    "df.isnull().sum() # Caluclating the Null values"
   ]
  },
  {
   "cell_type": "code",
   "execution_count": 10,
   "id": "6cdc6a34",
   "metadata": {},
   "outputs": [
    {
     "data": {
      "text/html": [
       "<div>\n",
       "<style scoped>\n",
       "    .dataframe tbody tr th:only-of-type {\n",
       "        vertical-align: middle;\n",
       "    }\n",
       "\n",
       "    .dataframe tbody tr th {\n",
       "        vertical-align: top;\n",
       "    }\n",
       "\n",
       "    .dataframe thead th {\n",
       "        text-align: right;\n",
       "    }\n",
       "</style>\n",
       "<table border=\"1\" class=\"dataframe\">\n",
       "  <thead>\n",
       "    <tr style=\"text-align: right;\">\n",
       "      <th></th>\n",
       "      <th>MAT_S11</th>\n",
       "      <th>CR_S11</th>\n",
       "      <th>CC_S11</th>\n",
       "      <th>BIO_S11</th>\n",
       "      <th>ENG_S11</th>\n",
       "      <th>QR_PRO</th>\n",
       "      <th>CR_PRO</th>\n",
       "      <th>CC_PRO</th>\n",
       "      <th>ENG_PRO</th>\n",
       "      <th>WC_PRO</th>\n",
       "      <th>FEP_PRO</th>\n",
       "      <th>G_SC</th>\n",
       "      <th>PERCENTILE</th>\n",
       "      <th>2ND_DECILE</th>\n",
       "      <th>QUARTILE</th>\n",
       "      <th>SEL</th>\n",
       "      <th>SEL_IHE</th>\n",
       "    </tr>\n",
       "  </thead>\n",
       "  <tbody>\n",
       "    <tr>\n",
       "      <th>count</th>\n",
       "      <td>12411.000000</td>\n",
       "      <td>12411.000000</td>\n",
       "      <td>12411.000000</td>\n",
       "      <td>12411.000000</td>\n",
       "      <td>12411.000000</td>\n",
       "      <td>12411.000000</td>\n",
       "      <td>12411.000000</td>\n",
       "      <td>12411.00000</td>\n",
       "      <td>12411.000000</td>\n",
       "      <td>12411.000000</td>\n",
       "      <td>12411.000000</td>\n",
       "      <td>12411.000000</td>\n",
       "      <td>12411.000000</td>\n",
       "      <td>12411.000000</td>\n",
       "      <td>12411.000000</td>\n",
       "      <td>12411.000000</td>\n",
       "      <td>12411.000000</td>\n",
       "    </tr>\n",
       "    <tr>\n",
       "      <th>mean</th>\n",
       "      <td>64.320764</td>\n",
       "      <td>60.778422</td>\n",
       "      <td>60.705181</td>\n",
       "      <td>63.950528</td>\n",
       "      <td>61.801064</td>\n",
       "      <td>77.417291</td>\n",
       "      <td>62.199339</td>\n",
       "      <td>59.18677</td>\n",
       "      <td>67.498348</td>\n",
       "      <td>53.703408</td>\n",
       "      <td>145.476593</td>\n",
       "      <td>162.710499</td>\n",
       "      <td>68.446459</td>\n",
       "      <td>3.885747</td>\n",
       "      <td>3.188865</td>\n",
       "      <td>2.598904</td>\n",
       "      <td>2.409395</td>\n",
       "    </tr>\n",
       "    <tr>\n",
       "      <th>std</th>\n",
       "      <td>11.873650</td>\n",
       "      <td>10.025876</td>\n",
       "      <td>10.120524</td>\n",
       "      <td>11.156869</td>\n",
       "      <td>14.297777</td>\n",
       "      <td>22.673444</td>\n",
       "      <td>27.666558</td>\n",
       "      <td>28.99184</td>\n",
       "      <td>25.495096</td>\n",
       "      <td>30.001734</td>\n",
       "      <td>40.126386</td>\n",
       "      <td>23.112479</td>\n",
       "      <td>25.867550</td>\n",
       "      <td>1.248431</td>\n",
       "      <td>0.979043</td>\n",
       "      <td>1.111704</td>\n",
       "      <td>0.926765</td>\n",
       "    </tr>\n",
       "    <tr>\n",
       "      <th>min</th>\n",
       "      <td>26.000000</td>\n",
       "      <td>24.000000</td>\n",
       "      <td>0.000000</td>\n",
       "      <td>11.000000</td>\n",
       "      <td>26.000000</td>\n",
       "      <td>1.000000</td>\n",
       "      <td>1.000000</td>\n",
       "      <td>1.00000</td>\n",
       "      <td>1.000000</td>\n",
       "      <td>0.000000</td>\n",
       "      <td>1.000000</td>\n",
       "      <td>37.000000</td>\n",
       "      <td>1.000000</td>\n",
       "      <td>1.000000</td>\n",
       "      <td>1.000000</td>\n",
       "      <td>1.000000</td>\n",
       "      <td>1.000000</td>\n",
       "    </tr>\n",
       "    <tr>\n",
       "      <th>25%</th>\n",
       "      <td>56.000000</td>\n",
       "      <td>54.000000</td>\n",
       "      <td>54.000000</td>\n",
       "      <td>56.000000</td>\n",
       "      <td>50.000000</td>\n",
       "      <td>65.000000</td>\n",
       "      <td>42.000000</td>\n",
       "      <td>36.00000</td>\n",
       "      <td>51.000000</td>\n",
       "      <td>28.000000</td>\n",
       "      <td>124.000000</td>\n",
       "      <td>147.000000</td>\n",
       "      <td>51.000000</td>\n",
       "      <td>3.000000</td>\n",
       "      <td>3.000000</td>\n",
       "      <td>2.000000</td>\n",
       "      <td>2.000000</td>\n",
       "    </tr>\n",
       "    <tr>\n",
       "      <th>50%</th>\n",
       "      <td>64.000000</td>\n",
       "      <td>61.000000</td>\n",
       "      <td>60.000000</td>\n",
       "      <td>64.000000</td>\n",
       "      <td>59.000000</td>\n",
       "      <td>85.000000</td>\n",
       "      <td>67.000000</td>\n",
       "      <td>65.00000</td>\n",
       "      <td>74.000000</td>\n",
       "      <td>56.000000</td>\n",
       "      <td>153.000000</td>\n",
       "      <td>163.000000</td>\n",
       "      <td>75.000000</td>\n",
       "      <td>4.000000</td>\n",
       "      <td>4.000000</td>\n",
       "      <td>2.000000</td>\n",
       "      <td>2.000000</td>\n",
       "    </tr>\n",
       "    <tr>\n",
       "      <th>75%</th>\n",
       "      <td>72.000000</td>\n",
       "      <td>67.000000</td>\n",
       "      <td>67.000000</td>\n",
       "      <td>71.000000</td>\n",
       "      <td>72.000000</td>\n",
       "      <td>96.000000</td>\n",
       "      <td>86.000000</td>\n",
       "      <td>85.00000</td>\n",
       "      <td>88.000000</td>\n",
       "      <td>80.000000</td>\n",
       "      <td>174.000000</td>\n",
       "      <td>179.000000</td>\n",
       "      <td>90.000000</td>\n",
       "      <td>5.000000</td>\n",
       "      <td>4.000000</td>\n",
       "      <td>4.000000</td>\n",
       "      <td>3.000000</td>\n",
       "    </tr>\n",
       "    <tr>\n",
       "      <th>max</th>\n",
       "      <td>100.000000</td>\n",
       "      <td>100.000000</td>\n",
       "      <td>100.000000</td>\n",
       "      <td>100.000000</td>\n",
       "      <td>100.000000</td>\n",
       "      <td>100.000000</td>\n",
       "      <td>100.000000</td>\n",
       "      <td>100.00000</td>\n",
       "      <td>100.000000</td>\n",
       "      <td>100.000000</td>\n",
       "      <td>300.000000</td>\n",
       "      <td>247.000000</td>\n",
       "      <td>100.000000</td>\n",
       "      <td>5.000000</td>\n",
       "      <td>4.000000</td>\n",
       "      <td>4.000000</td>\n",
       "      <td>4.000000</td>\n",
       "    </tr>\n",
       "  </tbody>\n",
       "</table>\n",
       "</div>"
      ],
      "text/plain": [
       "            MAT_S11        CR_S11        CC_S11       BIO_S11       ENG_S11  \\\n",
       "count  12411.000000  12411.000000  12411.000000  12411.000000  12411.000000   \n",
       "mean      64.320764     60.778422     60.705181     63.950528     61.801064   \n",
       "std       11.873650     10.025876     10.120524     11.156869     14.297777   \n",
       "min       26.000000     24.000000      0.000000     11.000000     26.000000   \n",
       "25%       56.000000     54.000000     54.000000     56.000000     50.000000   \n",
       "50%       64.000000     61.000000     60.000000     64.000000     59.000000   \n",
       "75%       72.000000     67.000000     67.000000     71.000000     72.000000   \n",
       "max      100.000000    100.000000    100.000000    100.000000    100.000000   \n",
       "\n",
       "             QR_PRO        CR_PRO       CC_PRO       ENG_PRO        WC_PRO  \\\n",
       "count  12411.000000  12411.000000  12411.00000  12411.000000  12411.000000   \n",
       "mean      77.417291     62.199339     59.18677     67.498348     53.703408   \n",
       "std       22.673444     27.666558     28.99184     25.495096     30.001734   \n",
       "min        1.000000      1.000000      1.00000      1.000000      0.000000   \n",
       "25%       65.000000     42.000000     36.00000     51.000000     28.000000   \n",
       "50%       85.000000     67.000000     65.00000     74.000000     56.000000   \n",
       "75%       96.000000     86.000000     85.00000     88.000000     80.000000   \n",
       "max      100.000000    100.000000    100.00000    100.000000    100.000000   \n",
       "\n",
       "            FEP_PRO          G_SC    PERCENTILE    2ND_DECILE      QUARTILE  \\\n",
       "count  12411.000000  12411.000000  12411.000000  12411.000000  12411.000000   \n",
       "mean     145.476593    162.710499     68.446459      3.885747      3.188865   \n",
       "std       40.126386     23.112479     25.867550      1.248431      0.979043   \n",
       "min        1.000000     37.000000      1.000000      1.000000      1.000000   \n",
       "25%      124.000000    147.000000     51.000000      3.000000      3.000000   \n",
       "50%      153.000000    163.000000     75.000000      4.000000      4.000000   \n",
       "75%      174.000000    179.000000     90.000000      5.000000      4.000000   \n",
       "max      300.000000    247.000000    100.000000      5.000000      4.000000   \n",
       "\n",
       "                SEL       SEL_IHE  \n",
       "count  12411.000000  12411.000000  \n",
       "mean       2.598904      2.409395  \n",
       "std        1.111704      0.926765  \n",
       "min        1.000000      1.000000  \n",
       "25%        2.000000      2.000000  \n",
       "50%        2.000000      2.000000  \n",
       "75%        4.000000      3.000000  \n",
       "max        4.000000      4.000000  "
      ]
     },
     "execution_count": 10,
     "metadata": {},
     "output_type": "execute_result"
    }
   ],
   "source": [
    "df.describe() # Get some initial statistics."
   ]
  },
  {
   "cell_type": "code",
   "execution_count": 11,
   "id": "dcbf4c23",
   "metadata": {},
   "outputs": [
    {
     "name": "stdout",
     "output_type": "stream",
     "text": [
      "<class 'pandas.core.frame.DataFrame'>\n",
      "Int64Index: 12411 entries, 0 to 12410\n",
      "Data columns (total 44 columns):\n",
      " #   Column            Non-Null Count  Dtype \n",
      "---  ------            --------------  ----- \n",
      " 0   COD_S11           12411 non-null  object\n",
      " 1   GENDER            12411 non-null  object\n",
      " 2   EDU_FATHER        12411 non-null  object\n",
      " 3   EDU_MOTHER        12411 non-null  object\n",
      " 4   OCC_FATHER        12411 non-null  object\n",
      " 5   OCC_MOTHER        12411 non-null  object\n",
      " 6   STRATUM           12411 non-null  object\n",
      " 7   SISBEN            12411 non-null  object\n",
      " 8   PEOPLE_HOUSE      12411 non-null  object\n",
      " 9   INTERNET          12411 non-null  object\n",
      " 10  TV                12411 non-null  object\n",
      " 11  COMPUTER          12411 non-null  object\n",
      " 12  WASHING_MCH       12411 non-null  object\n",
      " 13  MIC_OVEN          12411 non-null  object\n",
      " 14  CAR               12411 non-null  object\n",
      " 15  DVD               12411 non-null  object\n",
      " 16  FRESH             12411 non-null  object\n",
      " 17  PHONE             12411 non-null  object\n",
      " 18  MOBILE            12411 non-null  object\n",
      " 19  REVENUE           12411 non-null  object\n",
      " 20  JOB               12411 non-null  object\n",
      " 21  SCHOOL_NAME       12411 non-null  object\n",
      " 22  SCHOOL_NAT        12411 non-null  object\n",
      " 23  SCHOOL_TYPE       12411 non-null  object\n",
      " 24  MAT_S11           12411 non-null  int64 \n",
      " 25  CR_S11            12411 non-null  int64 \n",
      " 26  CC_S11            12411 non-null  int64 \n",
      " 27  BIO_S11           12411 non-null  int64 \n",
      " 28  ENG_S11           12411 non-null  int64 \n",
      " 29  Cod_SPro          12411 non-null  object\n",
      " 30  UNIVERSITY        12411 non-null  object\n",
      " 31  ACADEMIC_PROGRAM  12411 non-null  object\n",
      " 32  QR_PRO            12411 non-null  int64 \n",
      " 33  CR_PRO            12411 non-null  int64 \n",
      " 34  CC_PRO            12411 non-null  int64 \n",
      " 35  ENG_PRO           12411 non-null  int64 \n",
      " 36  WC_PRO            12411 non-null  int64 \n",
      " 37  FEP_PRO           12411 non-null  int64 \n",
      " 38  G_SC              12411 non-null  int64 \n",
      " 39  PERCENTILE        12411 non-null  int64 \n",
      " 40  2ND_DECILE        12411 non-null  int64 \n",
      " 41  QUARTILE          12411 non-null  int64 \n",
      " 42  SEL               12411 non-null  int64 \n",
      " 43  SEL_IHE           12411 non-null  int64 \n",
      "dtypes: int64(17), object(27)\n",
      "memory usage: 4.3+ MB\n"
     ]
    }
   ],
   "source": [
    "df.info() # Getting some informatation about dataset"
   ]
  },
  {
   "cell_type": "code",
   "execution_count": 12,
   "id": "082099e7",
   "metadata": {},
   "outputs": [
    {
     "data": {
      "text/plain": [
       "COD_S11             object\n",
       "GENDER              object\n",
       "EDU_FATHER          object\n",
       "EDU_MOTHER          object\n",
       "OCC_FATHER          object\n",
       "OCC_MOTHER          object\n",
       "STRATUM             object\n",
       "SISBEN              object\n",
       "PEOPLE_HOUSE        object\n",
       "INTERNET            object\n",
       "TV                  object\n",
       "COMPUTER            object\n",
       "WASHING_MCH         object\n",
       "MIC_OVEN            object\n",
       "CAR                 object\n",
       "DVD                 object\n",
       "FRESH               object\n",
       "PHONE               object\n",
       "MOBILE              object\n",
       "REVENUE             object\n",
       "JOB                 object\n",
       "SCHOOL_NAME         object\n",
       "SCHOOL_NAT          object\n",
       "SCHOOL_TYPE         object\n",
       "MAT_S11              int64\n",
       "CR_S11               int64\n",
       "CC_S11               int64\n",
       "BIO_S11              int64\n",
       "ENG_S11              int64\n",
       "Cod_SPro            object\n",
       "UNIVERSITY          object\n",
       "ACADEMIC_PROGRAM    object\n",
       "QR_PRO               int64\n",
       "CR_PRO               int64\n",
       "CC_PRO               int64\n",
       "ENG_PRO              int64\n",
       "WC_PRO               int64\n",
       "FEP_PRO              int64\n",
       "G_SC                 int64\n",
       "PERCENTILE           int64\n",
       "2ND_DECILE           int64\n",
       "QUARTILE             int64\n",
       "SEL                  int64\n",
       "SEL_IHE              int64\n",
       "dtype: object"
      ]
     },
     "execution_count": 12,
     "metadata": {},
     "output_type": "execute_result"
    }
   ],
   "source": [
    "df.dtypes # Finding Data Types"
   ]
  },
  {
   "cell_type": "code",
   "execution_count": 14,
   "id": "25c6201a",
   "metadata": {},
   "outputs": [
    {
     "data": {
      "text/plain": [
       "(12411, 44)"
      ]
     },
     "execution_count": 14,
     "metadata": {},
     "output_type": "execute_result"
    }
   ],
   "source": [
    "df.shape # Finding Dimensions of the data frame."
   ]
  },
  {
   "cell_type": "markdown",
   "id": "2c025604",
   "metadata": {},
   "source": [
    "# Finding Outliers\n",
    "2. Scan all numeric variables for outliers. If there are outliers, use any of the suitable techniques to deal with them."
   ]
  },
  {
   "cell_type": "code",
   "execution_count": 15,
   "id": "fe62a92d",
   "metadata": {},
   "outputs": [],
   "source": [
    "def ploting(df,st):\n",
    "    plt.figure(figsize=(16,4))\n",
    "    plt.subplot(1,2,2)\n",
    "    sns.boxplot(df[st])\n",
    "    plt.show()"
   ]
  },
  {
   "cell_type": "code",
   "execution_count": 16,
   "id": "ed91aca3",
   "metadata": {},
   "outputs": [
    {
     "data": {
      "image/png": "[encoded data removed]",
      "text/plain": [
       "<Figure size 1152x288 with 1 Axes>"
      ]
     },
     "metadata": {
      "needs_background": "light"
     },
     "output_type": "display_data"
    }
   ],
   "source": [
    "ploting(df,'MAT_S11')"
   ]
  },
  {
   "cell_type": "code",
   "execution_count": 17,
   "id": "9e51ea8e",
   "metadata": {},
   "outputs": [
    {
     "data": {
      "image/png": "[encoded data removed]",
      "text/plain": [
       "<Figure size 1152x288 with 1 Axes>"
      ]
     },
     "metadata": {
      "needs_background": "light"
     },
     "output_type": "display_data"
    }
   ],
   "source": [
    "ploting(df,'CR_S11')"
   ]
  },
  {
   "cell_type": "code",
   "execution_count": 18,
   "id": "7cdfd6aa",
   "metadata": {},
   "outputs": [
    {
     "data": {
      "image/png": "[encoded data removed]",
      "text/plain": [
       "<Figure size 1152x288 with 1 Axes>"
      ]
     },
     "metadata": {
      "needs_background": "light"
     },
     "output_type": "display_data"
    }
   ],
   "source": [
    "ploting(df,'CC_S11')"
   ]
  },
  {
   "cell_type": "code",
   "execution_count": 19,
   "id": "d9dc7b70",
   "metadata": {},
   "outputs": [
    {
     "data": {
      "image/png": "[encoded data removed]",
      "text/plain": [
       "<Figure size 1152x288 with 1 Axes>"
      ]
     },
     "metadata": {
      "needs_background": "light"
     },
     "output_type": "display_data"
    }
   ],
   "source": [
    "ploting(df,'BIO_S11')"
   ]
  },
  {
   "cell_type": "code",
   "execution_count": 20,
   "id": "524e943c",
   "metadata": {},
   "outputs": [
    {
     "data": {
      "image/png": "[encoded data removed]",
      "text/plain": [
       "<Figure size 1152x288 with 1 Axes>"
      ]
     },
     "metadata": {
      "needs_background": "light"
     },
     "output_type": "display_data"
    }
   ],
   "source": [
    "ploting(df,'ENG_S11')"
   ]
  },
  {
   "cell_type": "code",
   "execution_count": 21,
   "id": "4eae0af5",
   "metadata": {},
   "outputs": [
    {
     "data": {
      "image/png": "[encoded data removed]",
      "text/plain": [
       "<Figure size 1152x288 with 1 Axes>"
      ]
     },
     "metadata": {
      "needs_background": "light"
     },
     "output_type": "display_data"
    }
   ],
   "source": [
    "ploting(df,'QR_PRO')"
   ]
  },
  {
   "cell_type": "code",
   "execution_count": 22,
   "id": "04bdfa9b",
   "metadata": {},
   "outputs": [
    {
     "data": {
      "image/png": "[encoded data removed]",
      "text/plain": [
       "<Figure size 1152x288 with 1 Axes>"
      ]
     },
     "metadata": {
      "needs_background": "light"
     },
     "output_type": "display_data"
    }
   ],
   "source": [
    "ploting(df,'CR_PRO')"
   ]
  },
  {
   "cell_type": "code",
   "execution_count": 23,
   "id": "6d6363e1",
   "metadata": {},
   "outputs": [
    {
     "data": {
      "image/png": "[encoded data removed]",
      "text/plain": [
       "<Figure size 1152x288 with 1 Axes>"
      ]
     },
     "metadata": {
      "needs_background": "light"
     },
     "output_type": "display_data"
    }
   ],
   "source": [
    "ploting(df,'CC_PRO')"
   ]
  },
  {
   "cell_type": "code",
   "execution_count": 24,
   "id": "23c0fea5",
   "metadata": {},
   "outputs": [
    {
     "data": {
      "image/png": "[encoded data removed]",
      "text/plain": [
       "<Figure size 1152x288 with 1 Axes>"
      ]
     },
     "metadata": {
      "needs_background": "light"
     },
     "output_type": "display_data"
    }
   ],
   "source": [
    "ploting(df,'ENG_PRO')"
   ]
  },
  {
   "cell_type": "code",
   "execution_count": 25,
   "id": "93f7f90d",
   "metadata": {},
   "outputs": [
    {
     "data": {
      "image/png": "[encoded data removed]",
      "text/plain": [
       "<Figure size 1152x288 with 1 Axes>"
      ]
     },
     "metadata": {
      "needs_background": "light"
     },
     "output_type": "display_data"
    }
   ],
   "source": [
    "ploting(df,'WC_PRO')"
   ]
  },
  {
   "cell_type": "code",
   "execution_count": 26,
   "id": "5a581b29",
   "metadata": {},
   "outputs": [
    {
     "data": {
      "image/png": "[encoded data removed]",
      "text/plain": [
       "<Figure size 1152x288 with 1 Axes>"
      ]
     },
     "metadata": {
      "needs_background": "light"
     },
     "output_type": "display_data"
    }
   ],
   "source": [
    "ploting(df,'FEP_PRO')"
   ]
  },
  {
   "cell_type": "code",
   "execution_count": 27,
   "id": "5410d30e",
   "metadata": {},
   "outputs": [
    {
     "data": {
      "image/png": "[encoded data removed]",
      "text/plain": [
       "<Figure size 1152x288 with 1 Axes>"
      ]
     },
     "metadata": {
      "needs_background": "light"
     },
     "output_type": "display_data"
    }
   ],
   "source": [
    "ploting(df,'G_SC')"
   ]
  },
  {
   "cell_type": "code",
   "execution_count": 28,
   "id": "d2f5fb0a",
   "metadata": {},
   "outputs": [
    {
     "data": {
      "image/png": "[encoded data removed]",
      "text/plain": [
       "<Figure size 1152x288 with 1 Axes>"
      ]
     },
     "metadata": {
      "needs_background": "light"
     },
     "output_type": "display_data"
    }
   ],
   "source": [
    "ploting(df,'PERCENTILE')"
   ]
  },
  {
   "cell_type": "code",
   "execution_count": 29,
   "id": "ede329d6",
   "metadata": {},
   "outputs": [
    {
     "data": {
      "image/png": "[encoded data removed]",
      "text/plain": [
       "<Figure size 1152x288 with 1 Axes>"
      ]
     },
     "metadata": {
      "needs_background": "light"
     },
     "output_type": "display_data"
    }
   ],
   "source": [
    "ploting(df,'2ND_DECILE')"
   ]
  },
  {
   "cell_type": "code",
   "execution_count": 30,
   "id": "27d13ea9",
   "metadata": {},
   "outputs": [
    {
     "data": {
      "image/png": "[encoded data removed]",
      "text/plain": [
       "<Figure size 1152x288 with 1 Axes>"
      ]
     },
     "metadata": {
      "needs_background": "light"
     },
     "output_type": "display_data"
    }
   ],
   "source": [
    "ploting(df,'QUARTILE')"
   ]
  },
  {
   "cell_type": "code",
   "execution_count": 31,
   "id": "f76dab4d",
   "metadata": {},
   "outputs": [
    {
     "data": {
      "image/png": "[encoded data removed]",
      "text/plain": [
       "<Figure size 1152x288 with 1 Axes>"
      ]
     },
     "metadata": {
      "needs_background": "light"
     },
     "output_type": "display_data"
    }
   ],
   "source": [
    "ploting(df,'SEL')"
   ]
  },
  {
   "cell_type": "code",
   "execution_count": 32,
   "id": "08b0a1fb",
   "metadata": {},
   "outputs": [
    {
     "data": {
      "image/png": "[encoded data removed]",
      "text/plain": [
       "<Figure size 1152x288 with 1 Axes>"
      ]
     },
     "metadata": {
      "needs_background": "light"
     },
     "output_type": "display_data"
    }
   ],
   "source": [
    "ploting(df,'SEL_IHE')"
   ]
  },
  {
   "cell_type": "markdown",
   "id": "df73b5ce",
   "metadata": {},
   "source": [
    "## Detecting Outliers"
   ]
  },
  {
   "cell_type": "code",
   "execution_count": 33,
   "id": "7cbba3d6",
   "metadata": {},
   "outputs": [],
   "source": [
    "# Detecting Outliers \n",
    "import numpy as np\n",
    "outliers = []\n",
    "def detect_outliers_zscore(df):\n",
    "    thres = 3\n",
    "    mean = np.mean(df)\n",
    "    std = np.std(df)\n",
    "    # print(mean, std)\n",
    "    for i in df:\n",
    "        z_score = (i-mean)/std\n",
    "        if (np.abs(z_score) > thres):\n",
    "            outliers.append(i)\n",
    "    return outliers"
   ]
  },
  {
   "cell_type": "code",
   "execution_count": 34,
   "id": "c3ff4ab4",
   "metadata": {},
   "outputs": [
    {
     "name": "stdout",
     "output_type": "stream",
     "text": [
      "Outliers from Z-scores method:  [100, 100, 100, 100, 100, 100, 100, 100, 100, 100, 100, 100, 100, 100, 100, 100, 100, 100, 100, 100, 100, 100, 100, 100, 100, 100, 100, 100, 100, 100, 100, 100, 100, 100, 100, 100, 100, 100, 100, 100, 100, 100, 100, 100, 100, 100, 100, 100, 100, 100, 100, 100, 100, 100, 100, 100, 100, 100, 100, 100, 100, 100, 100, 100, 100, 100, 100, 100, 26, 100, 100, 100, 100, 100, 100, 100, 100, 100, 100, 100, 100, 100, 100, 100, 100, 100, 100, 100, 100]\n"
     ]
    }
   ],
   "source": [
    "mat = detect_outliers_zscore(df['MAT_S11'])\n",
    "print(\"Outliers from Z-scores method: \", mat)"
   ]
  },
  {
   "cell_type": "code",
   "execution_count": 35,
   "id": "fde35caf",
   "metadata": {},
   "outputs": [
    {
     "name": "stdout",
     "output_type": "stream",
     "text": [
      "Outliers from Z-scores method:  [100, 100, 100, 100, 100, 100, 100, 100, 100, 100, 100, 100, 100, 100, 100, 100, 100, 100, 100, 100, 100, 100, 100, 100, 100, 100, 100, 100, 100, 100, 100, 100, 100, 100, 100, 100, 100, 100, 100, 100, 100, 100, 100, 100, 100, 100, 100, 100, 100, 100, 100, 100, 100, 100, 100, 100, 100, 100, 100, 100, 100, 100, 100, 100, 100, 100, 100, 100, 26, 100, 100, 100, 100, 100, 100, 100, 100, 100, 100, 100, 100, 100, 100, 100, 100, 100, 100, 100, 100, 100, 28, 100, 100, 98, 98, 100, 26, 100, 98, 100, 98, 100, 100, 29, 100, 100, 100, 100, 100, 100, 29, 24, 100, 30, 29, 27, 100, 95, 100, 95, 100, 100, 95, 95, 100, 95, 95, 96, 95, 27, 95, 95, 95, 96, 100, 28, 28, 100, 28, 95, 96, 92, 92, 92, 92, 91, 98, 92, 92, 100, 92, 92, 92, 92, 92, 92, 91, 100]\n"
     ]
    }
   ],
   "source": [
    "cr = detect_outliers_zscore(df['CR_S11'])\n",
    "print(\"Outliers from Z-scores method: \", cr)"
   ]
  },
  {
   "cell_type": "code",
   "execution_count": 36,
   "id": "83ebb1bf",
   "metadata": {},
   "outputs": [
    {
     "name": "stdout",
     "output_type": "stream",
     "text": [
      "Outliers from Z-scores method:  [100, 100, 100, 100, 100, 100, 100, 100, 100, 100, 100, 100, 100, 100, 100, 100, 100, 100, 100, 100, 100, 100, 100, 100, 100, 100, 100, 100, 100, 100, 100, 100, 100, 100, 100, 100, 100, 100, 100, 100, 100, 100, 100, 100, 100, 100, 100, 100, 100, 100, 100, 100, 100, 100, 100, 100, 100, 100, 100, 100, 100, 100, 100, 100, 100, 100, 100, 100, 26, 100, 100, 100, 100, 100, 100, 100, 100, 100, 100, 100, 100, 100, 100, 100, 100, 100, 100, 100, 100, 100, 28, 100, 100, 98, 98, 100, 26, 100, 98, 100, 98, 100, 100, 29, 100, 100, 100, 100, 100, 100, 29, 24, 100, 30, 29, 27, 100, 95, 100, 95, 100, 100, 95, 95, 100, 95, 95, 96, 95, 27, 95, 95, 95, 96, 100, 28, 28, 100, 28, 95, 96, 92, 92, 92, 92, 91, 98, 92, 92, 100, 92, 92, 92, 92, 92, 92, 91, 100, 29, 100, 96, 96, 96, 96, 30, 26, 100, 0, 96, 96, 96, 96, 96, 96, 96, 96, 96, 26, 29, 100, 100, 96, 96, 29, 96, 30, 96, 100, 100, 100, 100, 100, 30, 100, 100, 100, 100, 30, 100, 100, 100, 100, 100, 100, 100, 100, 100, 100, 100, 100, 100, 100, 100, 100, 100, 100, 30, 100, 100, 100, 30, 93, 100, 93, 93, 30, 93]\n"
     ]
    }
   ],
   "source": [
    "cc = detect_outliers_zscore(df['CC_S11'])\n",
    "print(\"Outliers from Z-scores method: \", cc)"
   ]
  },
  {
   "cell_type": "code",
   "execution_count": 37,
   "id": "19c8f494",
   "metadata": {},
   "outputs": [
    {
     "name": "stdout",
     "output_type": "stream",
     "text": [
      "Outliers from Z-scores method:  [100, 100, 100, 100, 100, 100, 100, 100, 100, 100, 100, 100, 100, 100, 100, 100, 100, 100, 100, 100, 100, 100, 100, 100, 100, 100, 100, 100, 100, 100, 100, 100, 100, 100, 100, 100, 100, 100, 100, 100, 100, 100, 100, 100, 100, 100, 100, 100, 100, 100, 100, 100, 100, 100, 100, 100, 100, 100, 100, 100, 100, 100, 100, 100, 100, 100, 100, 100, 26, 100, 100, 100, 100, 100, 100, 100, 100, 100, 100, 100, 100, 100, 100, 100, 100, 100, 100, 100, 100, 100, 28, 100, 100, 98, 98, 100, 26, 100, 98, 100, 98, 100, 100, 29, 100, 100, 100, 100, 100, 100, 29, 24, 100, 30, 29, 27, 100, 95, 100, 95, 100, 100, 95, 95, 100, 95, 95, 96, 95, 27, 95, 95, 95, 96, 100, 28, 28, 100, 28, 95, 96, 92, 92, 92, 92, 91, 98, 92, 92, 100, 92, 92, 92, 92, 92, 92, 91, 100, 29, 100, 96, 96, 96, 96, 30, 26, 100, 0, 96, 96, 96, 96, 96, 96, 96, 96, 96, 26, 29, 100, 100, 96, 96, 29, 96, 30, 96, 100, 100, 100, 100, 100, 30, 100, 100, 100, 100, 30, 100, 100, 100, 100, 100, 100, 100, 100, 100, 100, 100, 100, 100, 100, 100, 100, 100, 100, 30, 100, 100, 100, 30, 93, 100, 93, 93, 30, 93, 100, 100, 100, 100, 100, 100, 20, 100, 100, 100, 100, 100, 100, 100, 100, 100, 100, 100, 11, 100, 100, 100, 100, 100, 100, 30, 100, 100, 100, 100, 100, 100, 100, 100, 100, 100, 100, 100, 100, 30, 100, 100, 100, 100, 20, 100, 100, 100, 100, 100, 30, 100, 100, 100, 30, 100, 100, 100, 100, 27, 100, 100, 100, 100, 100, 100, 100, 100, 98, 100, 99, 100, 99, 100, 100, 98, 100, 100, 100, 29]\n"
     ]
    }
   ],
   "source": [
    "bio = detect_outliers_zscore(df['BIO_S11'])\n",
    "print(\"Outliers from Z-scores method: \", bio)"
   ]
  },
  {
   "cell_type": "code",
   "execution_count": 38,
   "id": "f42e18e9",
   "metadata": {},
   "outputs": [
    {
     "name": "stdout",
     "output_type": "stream",
     "text": [
      "Outliers from Z-scores method:  [100, 100, 100, 100, 100, 100, 100, 100, 100, 100, 100, 100, 100, 100, 100, 100, 100, 100, 100, 100, 100, 100, 100, 100, 100, 100, 100, 100, 100, 100, 100, 100, 100, 100, 100, 100, 100, 100, 100, 100, 100, 100, 100, 100, 100, 100, 100, 100, 100, 100, 100, 100, 100, 100, 100, 100, 100, 100, 100, 100, 100, 100, 100, 100, 100, 100, 100, 100, 26, 100, 100, 100, 100, 100, 100, 100, 100, 100, 100, 100, 100, 100, 100, 100, 100, 100, 100, 100, 100, 100, 28, 100, 100, 98, 98, 100, 26, 100, 98, 100, 98, 100, 100, 29, 100, 100, 100, 100, 100, 100, 29, 24, 100, 30, 29, 27, 100, 95, 100, 95, 100, 100, 95, 95, 100, 95, 95, 96, 95, 27, 95, 95, 95, 96, 100, 28, 28, 100, 28, 95, 96, 92, 92, 92, 92, 91, 98, 92, 92, 100, 92, 92, 92, 92, 92, 92, 91, 100, 29, 100, 96, 96, 96, 96, 30, 26, 100, 0, 96, 96, 96, 96, 96, 96, 96, 96, 96, 26, 29, 100, 100, 96, 96, 29, 96, 30, 96, 100, 100, 100, 100, 100, 30, 100, 100, 100, 100, 30, 100, 100, 100, 100, 100, 100, 100, 100, 100, 100, 100, 100, 100, 100, 100, 100, 100, 100, 30, 100, 100, 100, 30, 93, 100, 93, 93, 30, 93, 100, 100, 100, 100, 100, 100, 20, 100, 100, 100, 100, 100, 100, 100, 100, 100, 100, 100, 11, 100, 100, 100, 100, 100, 100, 30, 100, 100, 100, 100, 100, 100, 100, 100, 100, 100, 100, 100, 100, 30, 100, 100, 100, 100, 20, 100, 100, 100, 100, 100, 30, 100, 100, 100, 30, 100, 100, 100, 100, 27, 100, 100, 100, 100, 100, 100, 100, 100, 98, 100, 99, 100, 99, 100, 100, 98, 100, 100, 100, 29]\n"
     ]
    }
   ],
   "source": [
    "eng = detect_outliers_zscore(df['ENG_S11'])\n",
    "print(\"Outliers from Z-scores method: \", eng)"
   ]
  },
  {
   "cell_type": "code",
   "execution_count": 39,
   "id": "d0d07242",
   "metadata": {},
   "outputs": [
    {
     "name": "stdout",
     "output_type": "stream",
     "text": [
      "Outliers from Z-scores method:  [100, 100, 100, 100, 100, 100, 100, 100, 100, 100, 100, 100, 100, 100, 100, 100, 100, 100, 100, 100, 100, 100, 100, 100, 100, 100, 100, 100, 100, 100, 100, 100, 100, 100, 100, 100, 100, 100, 100, 100, 100, 100, 100, 100, 100, 100, 100, 100, 100, 100, 100, 100, 100, 100, 100, 100, 100, 100, 100, 100, 100, 100, 100, 100, 100, 100, 100, 100, 26, 100, 100, 100, 100, 100, 100, 100, 100, 100, 100, 100, 100, 100, 100, 100, 100, 100, 100, 100, 100, 100, 28, 100, 100, 98, 98, 100, 26, 100, 98, 100, 98, 100, 100, 29, 100, 100, 100, 100, 100, 100, 29, 24, 100, 30, 29, 27, 100, 95, 100, 95, 100, 100, 95, 95, 100, 95, 95, 96, 95, 27, 95, 95, 95, 96, 100, 28, 28, 100, 28, 95, 96, 92, 92, 92, 92, 91, 98, 92, 92, 100, 92, 92, 92, 92, 92, 92, 91, 100, 29, 100, 96, 96, 96, 96, 30, 26, 100, 0, 96, 96, 96, 96, 96, 96, 96, 96, 96, 26, 29, 100, 100, 96, 96, 29, 96, 30, 96, 100, 100, 100, 100, 100, 30, 100, 100, 100, 100, 30, 100, 100, 100, 100, 100, 100, 100, 100, 100, 100, 100, 100, 100, 100, 100, 100, 100, 100, 30, 100, 100, 100, 30, 93, 100, 93, 93, 30, 93, 100, 100, 100, 100, 100, 100, 20, 100, 100, 100, 100, 100, 100, 100, 100, 100, 100, 100, 11, 100, 100, 100, 100, 100, 100, 30, 100, 100, 100, 100, 100, 100, 100, 100, 100, 100, 100, 100, 100, 30, 100, 100, 100, 100, 20, 100, 100, 100, 100, 100, 30, 100, 100, 100, 30, 100, 100, 100, 100, 27, 100, 100, 100, 100, 100, 100, 100, 100, 98, 100, 99, 100, 99, 100, 100, 98, 100, 100, 100, 29, 6, 3, 5, 2, 8, 7, 2, 8, 6, 9, 2, 9, 8, 1, 9, 2, 2, 1, 6, 7, 4, 5, 9, 7, 9, 1, 2, 8, 5, 2, 8, 8, 1, 4, 7, 4, 7, 8, 3, 8, 5, 9, 7, 8, 7, 1, 9, 2, 7, 5, 3, 7, 3, 8, 6, 9, 8, 9, 6, 1, 7, 8, 1, 9, 1, 7, 8, 9, 6, 7, 7, 8, 4, 6, 6, 5, 8, 8, 3, 1, 3, 3, 2, 9, 8, 3, 6, 3, 2, 7, 8, 4, 8, 3, 7, 9, 9, 3, 7, 6, 1, 1, 9, 4, 8, 7, 1, 6]\n"
     ]
    }
   ],
   "source": [
    "qr = detect_outliers_zscore(df['QR_PRO'])\n",
    "print(\"Outliers from Z-scores method: \", qr)"
   ]
  },
  {
   "cell_type": "code",
   "execution_count": 40,
   "id": "1d1c1321",
   "metadata": {},
   "outputs": [
    {
     "name": "stdout",
     "output_type": "stream",
     "text": [
      "Outliers from Z-scores method:  [100, 100, 100, 100, 100, 100, 100, 100, 100, 100, 100, 100, 100, 100, 100, 100, 100, 100, 100, 100, 100, 100, 100, 100, 100, 100, 100, 100, 100, 100, 100, 100, 100, 100, 100, 100, 100, 100, 100, 100, 100, 100, 100, 100, 100, 100, 100, 100, 100, 100, 100, 100, 100, 100, 100, 100, 100, 100, 100, 100, 100, 100, 100, 100, 100, 100, 100, 100, 26, 100, 100, 100, 100, 100, 100, 100, 100, 100, 100, 100, 100, 100, 100, 100, 100, 100, 100, 100, 100, 100, 28, 100, 100, 98, 98, 100, 26, 100, 98, 100, 98, 100, 100, 29, 100, 100, 100, 100, 100, 100, 29, 24, 100, 30, 29, 27, 100, 95, 100, 95, 100, 100, 95, 95, 100, 95, 95, 96, 95, 27, 95, 95, 95, 96, 100, 28, 28, 100, 28, 95, 96, 92, 92, 92, 92, 91, 98, 92, 92, 100, 92, 92, 92, 92, 92, 92, 91, 100, 29, 100, 96, 96, 96, 96, 30, 26, 100, 0, 96, 96, 96, 96, 96, 96, 96, 96, 96, 26, 29, 100, 100, 96, 96, 29, 96, 30, 96, 100, 100, 100, 100, 100, 30, 100, 100, 100, 100, 30, 100, 100, 100, 100, 100, 100, 100, 100, 100, 100, 100, 100, 100, 100, 100, 100, 100, 100, 30, 100, 100, 100, 30, 93, 100, 93, 93, 30, 93, 100, 100, 100, 100, 100, 100, 20, 100, 100, 100, 100, 100, 100, 100, 100, 100, 100, 100, 11, 100, 100, 100, 100, 100, 100, 30, 100, 100, 100, 100, 100, 100, 100, 100, 100, 100, 100, 100, 100, 30, 100, 100, 100, 100, 20, 100, 100, 100, 100, 100, 30, 100, 100, 100, 30, 100, 100, 100, 100, 27, 100, 100, 100, 100, 100, 100, 100, 100, 98, 100, 99, 100, 99, 100, 100, 98, 100, 100, 100, 29, 6, 3, 5, 2, 8, 7, 2, 8, 6, 9, 2, 9, 8, 1, 9, 2, 2, 1, 6, 7, 4, 5, 9, 7, 9, 1, 2, 8, 5, 2, 8, 8, 1, 4, 7, 4, 7, 8, 3, 8, 5, 9, 7, 8, 7, 1, 9, 2, 7, 5, 3, 7, 3, 8, 6, 9, 8, 9, 6, 1, 7, 8, 1, 9, 1, 7, 8, 9, 6, 7, 7, 8, 4, 6, 6, 5, 8, 8, 3, 1, 3, 3, 2, 9, 8, 3, 6, 3, 2, 7, 8, 4, 8, 3, 7, 9, 9, 3, 7, 6, 1, 1, 9, 4, 8, 7, 1, 6]\n"
     ]
    }
   ],
   "source": [
    "crpro = detect_outliers_zscore(df['CR_PRO'])\n",
    "print(\"Outliers from Z-scores method: \", crpro)"
   ]
  },
  {
   "cell_type": "code",
   "execution_count": 41,
   "id": "1f869460",
   "metadata": {},
   "outputs": [
    {
     "name": "stdout",
     "output_type": "stream",
     "text": [
      "Outliers from Z-scores method:  [100, 100, 100, 100, 100, 100, 100, 100, 100, 100, 100, 100, 100, 100, 100, 100, 100, 100, 100, 100, 100, 100, 100, 100, 100, 100, 100, 100, 100, 100, 100, 100, 100, 100, 100, 100, 100, 100, 100, 100, 100, 100, 100, 100, 100, 100, 100, 100, 100, 100, 100, 100, 100, 100, 100, 100, 100, 100, 100, 100, 100, 100, 100, 100, 100, 100, 100, 100, 26, 100, 100, 100, 100, 100, 100, 100, 100, 100, 100, 100, 100, 100, 100, 100, 100, 100, 100, 100, 100, 100, 28, 100, 100, 98, 98, 100, 26, 100, 98, 100, 98, 100, 100, 29, 100, 100, 100, 100, 100, 100, 29, 24, 100, 30, 29, 27, 100, 95, 100, 95, 100, 100, 95, 95, 100, 95, 95, 96, 95, 27, 95, 95, 95, 96, 100, 28, 28, 100, 28, 95, 96, 92, 92, 92, 92, 91, 98, 92, 92, 100, 92, 92, 92, 92, 92, 92, 91, 100, 29, 100, 96, 96, 96, 96, 30, 26, 100, 0, 96, 96, 96, 96, 96, 96, 96, 96, 96, 26, 29, 100, 100, 96, 96, 29, 96, 30, 96, 100, 100, 100, 100, 100, 30, 100, 100, 100, 100, 30, 100, 100, 100, 100, 100, 100, 100, 100, 100, 100, 100, 100, 100, 100, 100, 100, 100, 100, 30, 100, 100, 100, 30, 93, 100, 93, 93, 30, 93, 100, 100, 100, 100, 100, 100, 20, 100, 100, 100, 100, 100, 100, 100, 100, 100, 100, 100, 11, 100, 100, 100, 100, 100, 100, 30, 100, 100, 100, 100, 100, 100, 100, 100, 100, 100, 100, 100, 100, 30, 100, 100, 100, 100, 20, 100, 100, 100, 100, 100, 30, 100, 100, 100, 30, 100, 100, 100, 100, 27, 100, 100, 100, 100, 100, 100, 100, 100, 98, 100, 99, 100, 99, 100, 100, 98, 100, 100, 100, 29, 6, 3, 5, 2, 8, 7, 2, 8, 6, 9, 2, 9, 8, 1, 9, 2, 2, 1, 6, 7, 4, 5, 9, 7, 9, 1, 2, 8, 5, 2, 8, 8, 1, 4, 7, 4, 7, 8, 3, 8, 5, 9, 7, 8, 7, 1, 9, 2, 7, 5, 3, 7, 3, 8, 6, 9, 8, 9, 6, 1, 7, 8, 1, 9, 1, 7, 8, 9, 6, 7, 7, 8, 4, 6, 6, 5, 8, 8, 3, 1, 3, 3, 2, 9, 8, 3, 6, 3, 2, 7, 8, 4, 8, 3, 7, 9, 9, 3, 7, 6, 1, 1, 9, 4, 8, 7, 1, 6]\n"
     ]
    }
   ],
   "source": [
    "ccpro = detect_outliers_zscore(df['CC_PRO'])\n",
    "print(\"Outliers from Z-scores method: \", ccpro)"
   ]
  },
  {
   "cell_type": "code",
   "execution_count": 42,
   "id": "5bef152c",
   "metadata": {},
   "outputs": [
    {
     "name": "stdout",
     "output_type": "stream",
     "text": [
      "Outliers from Z-scores method:  [100, 100, 100, 100, 100, 100, 100, 100, 100, 100, 100, 100, 100, 100, 100, 100, 100, 100, 100, 100, 100, 100, 100, 100, 100, 100, 100, 100, 100, 100, 100, 100, 100, 100, 100, 100, 100, 100, 100, 100, 100, 100, 100, 100, 100, 100, 100, 100, 100, 100, 100, 100, 100, 100, 100, 100, 100, 100, 100, 100, 100, 100, 100, 100, 100, 100, 100, 100, 26, 100, 100, 100, 100, 100, 100, 100, 100, 100, 100, 100, 100, 100, 100, 100, 100, 100, 100, 100, 100, 100, 28, 100, 100, 98, 98, 100, 26, 100, 98, 100, 98, 100, 100, 29, 100, 100, 100, 100, 100, 100, 29, 24, 100, 30, 29, 27, 100, 95, 100, 95, 100, 100, 95, 95, 100, 95, 95, 96, 95, 27, 95, 95, 95, 96, 100, 28, 28, 100, 28, 95, 96, 92, 92, 92, 92, 91, 98, 92, 92, 100, 92, 92, 92, 92, 92, 92, 91, 100, 29, 100, 96, 96, 96, 96, 30, 26, 100, 0, 96, 96, 96, 96, 96, 96, 96, 96, 96, 26, 29, 100, 100, 96, 96, 29, 96, 30, 96, 100, 100, 100, 100, 100, 30, 100, 100, 100, 100, 30, 100, 100, 100, 100, 100, 100, 100, 100, 100, 100, 100, 100, 100, 100, 100, 100, 100, 100, 30, 100, 100, 100, 30, 93, 100, 93, 93, 30, 93, 100, 100, 100, 100, 100, 100, 20, 100, 100, 100, 100, 100, 100, 100, 100, 100, 100, 100, 11, 100, 100, 100, 100, 100, 100, 30, 100, 100, 100, 100, 100, 100, 100, 100, 100, 100, 100, 100, 100, 30, 100, 100, 100, 100, 20, 100, 100, 100, 100, 100, 30, 100, 100, 100, 30, 100, 100, 100, 100, 27, 100, 100, 100, 100, 100, 100, 100, 100, 98, 100, 99, 100, 99, 100, 100, 98, 100, 100, 100, 29, 6, 3, 5, 2, 8, 7, 2, 8, 6, 9, 2, 9, 8, 1, 9, 2, 2, 1, 6, 7, 4, 5, 9, 7, 9, 1, 2, 8, 5, 2, 8, 8, 1, 4, 7, 4, 7, 8, 3, 8, 5, 9, 7, 8, 7, 1, 9, 2, 7, 5, 3, 7, 3, 8, 6, 9, 8, 9, 6, 1, 7, 8, 1, 9, 1, 7, 8, 9, 6, 7, 7, 8, 4, 6, 6, 5, 8, 8, 3, 1, 3, 3, 2, 9, 8, 3, 6, 3, 2, 7, 8, 4, 8, 3, 7, 9, 9, 3, 7, 6, 1, 1, 9, 4, 8, 7, 1, 6]\n"
     ]
    }
   ],
   "source": [
    "engpro = detect_outliers_zscore(df['ENG_PRO'])\n",
    "print(\"Outliers from Z-scores method: \", engpro)"
   ]
  },
  {
   "cell_type": "code",
   "execution_count": 43,
   "id": "2fc356cc",
   "metadata": {},
   "outputs": [
    {
     "name": "stdout",
     "output_type": "stream",
     "text": [
      "Outliers from Z-scores method:  [100, 100, 100, 100, 100, 100, 100, 100, 100, 100, 100, 100, 100, 100, 100, 100, 100, 100, 100, 100, 100, 100, 100, 100, 100, 100, 100, 100, 100, 100, 100, 100, 100, 100, 100, 100, 100, 100, 100, 100, 100, 100, 100, 100, 100, 100, 100, 100, 100, 100, 100, 100, 100, 100, 100, 100, 100, 100, 100, 100, 100, 100, 100, 100, 100, 100, 100, 100, 26, 100, 100, 100, 100, 100, 100, 100, 100, 100, 100, 100, 100, 100, 100, 100, 100, 100, 100, 100, 100, 100, 28, 100, 100, 98, 98, 100, 26, 100, 98, 100, 98, 100, 100, 29, 100, 100, 100, 100, 100, 100, 29, 24, 100, 30, 29, 27, 100, 95, 100, 95, 100, 100, 95, 95, 100, 95, 95, 96, 95, 27, 95, 95, 95, 96, 100, 28, 28, 100, 28, 95, 96, 92, 92, 92, 92, 91, 98, 92, 92, 100, 92, 92, 92, 92, 92, 92, 91, 100, 29, 100, 96, 96, 96, 96, 30, 26, 100, 0, 96, 96, 96, 96, 96, 96, 96, 96, 96, 26, 29, 100, 100, 96, 96, 29, 96, 30, 96, 100, 100, 100, 100, 100, 30, 100, 100, 100, 100, 30, 100, 100, 100, 100, 100, 100, 100, 100, 100, 100, 100, 100, 100, 100, 100, 100, 100, 100, 30, 100, 100, 100, 30, 93, 100, 93, 93, 30, 93, 100, 100, 100, 100, 100, 100, 20, 100, 100, 100, 100, 100, 100, 100, 100, 100, 100, 100, 11, 100, 100, 100, 100, 100, 100, 30, 100, 100, 100, 100, 100, 100, 100, 100, 100, 100, 100, 100, 100, 30, 100, 100, 100, 100, 20, 100, 100, 100, 100, 100, 30, 100, 100, 100, 30, 100, 100, 100, 100, 27, 100, 100, 100, 100, 100, 100, 100, 100, 98, 100, 99, 100, 99, 100, 100, 98, 100, 100, 100, 29, 6, 3, 5, 2, 8, 7, 2, 8, 6, 9, 2, 9, 8, 1, 9, 2, 2, 1, 6, 7, 4, 5, 9, 7, 9, 1, 2, 8, 5, 2, 8, 8, 1, 4, 7, 4, 7, 8, 3, 8, 5, 9, 7, 8, 7, 1, 9, 2, 7, 5, 3, 7, 3, 8, 6, 9, 8, 9, 6, 1, 7, 8, 1, 9, 1, 7, 8, 9, 6, 7, 7, 8, 4, 6, 6, 5, 8, 8, 3, 1, 3, 3, 2, 9, 8, 3, 6, 3, 2, 7, 8, 4, 8, 3, 7, 9, 9, 3, 7, 6, 1, 1, 9, 4, 8, 7, 1, 6]\n"
     ]
    }
   ],
   "source": [
    "wcpro = detect_outliers_zscore(df['WC_PRO'])\n",
    "print(\"Outliers from Z-scores method: \", wcpro)"
   ]
  },
  {
   "cell_type": "code",
   "execution_count": 44,
   "id": "8092c48a",
   "metadata": {},
   "outputs": [
    {
     "name": "stdout",
     "output_type": "stream",
     "text": [
      "Outliers from Z-scores method:  [100, 100, 100, 100, 100, 100, 100, 100, 100, 100, 100, 100, 100, 100, 100, 100, 100, 100, 100, 100, 100, 100, 100, 100, 100, 100, 100, 100, 100, 100, 100, 100, 100, 100, 100, 100, 100, 100, 100, 100, 100, 100, 100, 100, 100, 100, 100, 100, 100, 100, 100, 100, 100, 100, 100, 100, 100, 100, 100, 100, 100, 100, 100, 100, 100, 100, 100, 100, 26, 100, 100, 100, 100, 100, 100, 100, 100, 100, 100, 100, 100, 100, 100, 100, 100, 100, 100, 100, 100, 100, 28, 100, 100, 98, 98, 100, 26, 100, 98, 100, 98, 100, 100, 29, 100, 100, 100, 100, 100, 100, 29, 24, 100, 30, 29, 27, 100, 95, 100, 95, 100, 100, 95, 95, 100, 95, 95, 96, 95, 27, 95, 95, 95, 96, 100, 28, 28, 100, 28, 95, 96, 92, 92, 92, 92, 91, 98, 92, 92, 100, 92, 92, 92, 92, 92, 92, 91, 100, 29, 100, 96, 96, 96, 96, 30, 26, 100, 0, 96, 96, 96, 96, 96, 96, 96, 96, 96, 26, 29, 100, 100, 96, 96, 29, 96, 30, 96, 100, 100, 100, 100, 100, 30, 100, 100, 100, 100, 30, 100, 100, 100, 100, 100, 100, 100, 100, 100, 100, 100, 100, 100, 100, 100, 100, 100, 100, 30, 100, 100, 100, 30, 93, 100, 93, 93, 30, 93, 100, 100, 100, 100, 100, 100, 20, 100, 100, 100, 100, 100, 100, 100, 100, 100, 100, 100, 11, 100, 100, 100, 100, 100, 100, 30, 100, 100, 100, 100, 100, 100, 100, 100, 100, 100, 100, 100, 100, 30, 100, 100, 100, 100, 20, 100, 100, 100, 100, 100, 30, 100, 100, 100, 30, 100, 100, 100, 100, 27, 100, 100, 100, 100, 100, 100, 100, 100, 98, 100, 99, 100, 99, 100, 100, 98, 100, 100, 100, 29, 6, 3, 5, 2, 8, 7, 2, 8, 6, 9, 2, 9, 8, 1, 9, 2, 2, 1, 6, 7, 4, 5, 9, 7, 9, 1, 2, 8, 5, 2, 8, 8, 1, 4, 7, 4, 7, 8, 3, 8, 5, 9, 7, 8, 7, 1, 9, 2, 7, 5, 3, 7, 3, 8, 6, 9, 8, 9, 6, 1, 7, 8, 1, 9, 1, 7, 8, 9, 6, 7, 7, 8, 4, 6, 6, 5, 8, 8, 3, 1, 3, 3, 2, 9, 8, 3, 6, 3, 2, 7, 8, 4, 8, 3, 7, 9, 9, 3, 7, 6, 1, 1, 9, 4, 8, 7, 1, 6, 3, 20, 24, 1, 14, 2, 19, 14, 1, 18, 22, 5, 23, 16, 10, 22, 25, 14, 14, 19, 12, 15, 22, 2, 16, 7, 22, 7, 21, 21, 2, 1, 18, 6, 4, 10, 20, 9, 22, 18, 22, 8, 7, 10, 17, 7, 17, 14, 25, 2, 15, 2, 2, 21, 13, 6, 6, 300, 9, 5, 23, 7, 15, 13, 10, 7, 19, 15, 22, 3, 16, 19, 6, 18, 17, 11, 19, 4, 18, 9, 20, 16, 11, 12, 24, 14, 23, 23, 20, 2, 21, 13, 23, 18, 21, 22, 16, 23, 17, 16, 20, 23, 23, 20, 10, 14, 16, 12, 20, 8, 18, 4, 15, 22, 10, 12, 19, 2, 5, 17, 4, 15, 21, 11, 16, 14, 15, 1, 14, 15, 16, 19, 19, 10, 9, 24, 4, 22, 16, 11, 24, 19, 8, 5, 23, 1, 10, 9, 8]\n"
     ]
    }
   ],
   "source": [
    "feppro = detect_outliers_zscore(df['FEP_PRO'])\n",
    "print(\"Outliers from Z-scores method: \", feppro)"
   ]
  },
  {
   "cell_type": "code",
   "execution_count": 45,
   "id": "50c07d59",
   "metadata": {},
   "outputs": [
    {
     "name": "stdout",
     "output_type": "stream",
     "text": [
      "Outliers from Z-scores method:  [100, 100, 100, 100, 100, 100, 100, 100, 100, 100, 100, 100, 100, 100, 100, 100, 100, 100, 100, 100, 100, 100, 100, 100, 100, 100, 100, 100, 100, 100, 100, 100, 100, 100, 100, 100, 100, 100, 100, 100, 100, 100, 100, 100, 100, 100, 100, 100, 100, 100, 100, 100, 100, 100, 100, 100, 100, 100, 100, 100, 100, 100, 100, 100, 100, 100, 100, 100, 26, 100, 100, 100, 100, 100, 100, 100, 100, 100, 100, 100, 100, 100, 100, 100, 100, 100, 100, 100, 100, 100, 28, 100, 100, 98, 98, 100, 26, 100, 98, 100, 98, 100, 100, 29, 100, 100, 100, 100, 100, 100, 29, 24, 100, 30, 29, 27, 100, 95, 100, 95, 100, 100, 95, 95, 100, 95, 95, 96, 95, 27, 95, 95, 95, 96, 100, 28, 28, 100, 28, 95, 96, 92, 92, 92, 92, 91, 98, 92, 92, 100, 92, 92, 92, 92, 92, 92, 91, 100, 29, 100, 96, 96, 96, 96, 30, 26, 100, 0, 96, 96, 96, 96, 96, 96, 96, 96, 96, 26, 29, 100, 100, 96, 96, 29, 96, 30, 96, 100, 100, 100, 100, 100, 30, 100, 100, 100, 100, 30, 100, 100, 100, 100, 100, 100, 100, 100, 100, 100, 100, 100, 100, 100, 100, 100, 100, 100, 30, 100, 100, 100, 30, 93, 100, 93, 93, 30, 93, 100, 100, 100, 100, 100, 100, 20, 100, 100, 100, 100, 100, 100, 100, 100, 100, 100, 100, 11, 100, 100, 100, 100, 100, 100, 30, 100, 100, 100, 100, 100, 100, 100, 100, 100, 100, 100, 100, 100, 30, 100, 100, 100, 100, 20, 100, 100, 100, 100, 100, 30, 100, 100, 100, 30, 100, 100, 100, 100, 27, 100, 100, 100, 100, 100, 100, 100, 100, 98, 100, 99, 100, 99, 100, 100, 98, 100, 100, 100, 29, 6, 3, 5, 2, 8, 7, 2, 8, 6, 9, 2, 9, 8, 1, 9, 2, 2, 1, 6, 7, 4, 5, 9, 7, 9, 1, 2, 8, 5, 2, 8, 8, 1, 4, 7, 4, 7, 8, 3, 8, 5, 9, 7, 8, 7, 1, 9, 2, 7, 5, 3, 7, 3, 8, 6, 9, 8, 9, 6, 1, 7, 8, 1, 9, 1, 7, 8, 9, 6, 7, 7, 8, 4, 6, 6, 5, 8, 8, 3, 1, 3, 3, 2, 9, 8, 3, 6, 3, 2, 7, 8, 4, 8, 3, 7, 9, 9, 3, 7, 6, 1, 1, 9, 4, 8, 7, 1, 6, 3, 20, 24, 1, 14, 2, 19, 14, 1, 18, 22, 5, 23, 16, 10, 22, 25, 14, 14, 19, 12, 15, 22, 2, 16, 7, 22, 7, 21, 21, 2, 1, 18, 6, 4, 10, 20, 9, 22, 18, 22, 8, 7, 10, 17, 7, 17, 14, 25, 2, 15, 2, 2, 21, 13, 6, 6, 300, 9, 5, 23, 7, 15, 13, 10, 7, 19, 15, 22, 3, 16, 19, 6, 18, 17, 11, 19, 4, 18, 9, 20, 16, 11, 12, 24, 14, 23, 23, 20, 2, 21, 13, 23, 18, 21, 22, 16, 23, 17, 16, 20, 23, 23, 20, 10, 14, 16, 12, 20, 8, 18, 4, 15, 22, 10, 12, 19, 2, 5, 17, 4, 15, 21, 11, 16, 14, 15, 1, 14, 15, 16, 19, 19, 10, 9, 24, 4, 22, 16, 11, 24, 19, 8, 5, 23, 1, 10, 9, 8, 89, 91, 82, 76, 92, 37, 86, 77, 78, 76, 93, 90, 75, 91, 85, 91, 93, 77, 91, 247, 242, 85, 233, 92, 237, 236, 72, 240, 239, 81, 234, 87, 238, 243, 246]\n"
     ]
    }
   ],
   "source": [
    "gsc = detect_outliers_zscore(df['G_SC'])\n",
    "print(\"Outliers from Z-scores method: \", gsc)"
   ]
  },
  {
   "cell_type": "code",
   "execution_count": 46,
   "id": "85c6cce6",
   "metadata": {},
   "outputs": [
    {
     "name": "stdout",
     "output_type": "stream",
     "text": [
      "Outliers from Z-scores method:  [100, 100, 100, 100, 100, 100, 100, 100, 100, 100, 100, 100, 100, 100, 100, 100, 100, 100, 100, 100, 100, 100, 100, 100, 100, 100, 100, 100, 100, 100, 100, 100, 100, 100, 100, 100, 100, 100, 100, 100, 100, 100, 100, 100, 100, 100, 100, 100, 100, 100, 100, 100, 100, 100, 100, 100, 100, 100, 100, 100, 100, 100, 100, 100, 100, 100, 100, 100, 26, 100, 100, 100, 100, 100, 100, 100, 100, 100, 100, 100, 100, 100, 100, 100, 100, 100, 100, 100, 100, 100, 28, 100, 100, 98, 98, 100, 26, 100, 98, 100, 98, 100, 100, 29, 100, 100, 100, 100, 100, 100, 29, 24, 100, 30, 29, 27, 100, 95, 100, 95, 100, 100, 95, 95, 100, 95, 95, 96, 95, 27, 95, 95, 95, 96, 100, 28, 28, 100, 28, 95, 96, 92, 92, 92, 92, 91, 98, 92, 92, 100, 92, 92, 92, 92, 92, 92, 91, 100, 29, 100, 96, 96, 96, 96, 30, 26, 100, 0, 96, 96, 96, 96, 96, 96, 96, 96, 96, 26, 29, 100, 100, 96, 96, 29, 96, 30, 96, 100, 100, 100, 100, 100, 30, 100, 100, 100, 100, 30, 100, 100, 100, 100, 100, 100, 100, 100, 100, 100, 100, 100, 100, 100, 100, 100, 100, 100, 30, 100, 100, 100, 30, 93, 100, 93, 93, 30, 93, 100, 100, 100, 100, 100, 100, 20, 100, 100, 100, 100, 100, 100, 100, 100, 100, 100, 100, 11, 100, 100, 100, 100, 100, 100, 30, 100, 100, 100, 100, 100, 100, 100, 100, 100, 100, 100, 100, 100, 30, 100, 100, 100, 100, 20, 100, 100, 100, 100, 100, 30, 100, 100, 100, 30, 100, 100, 100, 100, 27, 100, 100, 100, 100, 100, 100, 100, 100, 98, 100, 99, 100, 99, 100, 100, 98, 100, 100, 100, 29, 6, 3, 5, 2, 8, 7, 2, 8, 6, 9, 2, 9, 8, 1, 9, 2, 2, 1, 6, 7, 4, 5, 9, 7, 9, 1, 2, 8, 5, 2, 8, 8, 1, 4, 7, 4, 7, 8, 3, 8, 5, 9, 7, 8, 7, 1, 9, 2, 7, 5, 3, 7, 3, 8, 6, 9, 8, 9, 6, 1, 7, 8, 1, 9, 1, 7, 8, 9, 6, 7, 7, 8, 4, 6, 6, 5, 8, 8, 3, 1, 3, 3, 2, 9, 8, 3, 6, 3, 2, 7, 8, 4, 8, 3, 7, 9, 9, 3, 7, 6, 1, 1, 9, 4, 8, 7, 1, 6, 3, 20, 24, 1, 14, 2, 19, 14, 1, 18, 22, 5, 23, 16, 10, 22, 25, 14, 14, 19, 12, 15, 22, 2, 16, 7, 22, 7, 21, 21, 2, 1, 18, 6, 4, 10, 20, 9, 22, 18, 22, 8, 7, 10, 17, 7, 17, 14, 25, 2, 15, 2, 2, 21, 13, 6, 6, 300, 9, 5, 23, 7, 15, 13, 10, 7, 19, 15, 22, 3, 16, 19, 6, 18, 17, 11, 19, 4, 18, 9, 20, 16, 11, 12, 24, 14, 23, 23, 20, 2, 21, 13, 23, 18, 21, 22, 16, 23, 17, 16, 20, 23, 23, 20, 10, 14, 16, 12, 20, 8, 18, 4, 15, 22, 10, 12, 19, 2, 5, 17, 4, 15, 21, 11, 16, 14, 15, 1, 14, 15, 16, 19, 19, 10, 9, 24, 4, 22, 16, 11, 24, 19, 8, 5, 23, 1, 10, 9, 8, 89, 91, 82, 76, 92, 37, 86, 77, 78, 76, 93, 90, 75, 91, 85, 91, 93, 77, 91, 247, 242, 85, 233, 92, 237, 236, 72, 240, 239, 81, 234, 87, 238, 243, 246]\n"
     ]
    }
   ],
   "source": [
    "percentile = detect_outliers_zscore(df['PERCENTILE'])\n",
    "print(\"Outliers from Z-scores method: \", percentile)"
   ]
  },
  {
   "cell_type": "code",
   "execution_count": 47,
   "id": "2198f2fa",
   "metadata": {},
   "outputs": [
    {
     "name": "stdout",
     "output_type": "stream",
     "text": [
      "Outliers from Z-scores method:  [100, 100, 100, 100, 100, 100, 100, 100, 100, 100, 100, 100, 100, 100, 100, 100, 100, 100, 100, 100, 100, 100, 100, 100, 100, 100, 100, 100, 100, 100, 100, 100, 100, 100, 100, 100, 100, 100, 100, 100, 100, 100, 100, 100, 100, 100, 100, 100, 100, 100, 100, 100, 100, 100, 100, 100, 100, 100, 100, 100, 100, 100, 100, 100, 100, 100, 100, 100, 26, 100, 100, 100, 100, 100, 100, 100, 100, 100, 100, 100, 100, 100, 100, 100, 100, 100, 100, 100, 100, 100, 28, 100, 100, 98, 98, 100, 26, 100, 98, 100, 98, 100, 100, 29, 100, 100, 100, 100, 100, 100, 29, 24, 100, 30, 29, 27, 100, 95, 100, 95, 100, 100, 95, 95, 100, 95, 95, 96, 95, 27, 95, 95, 95, 96, 100, 28, 28, 100, 28, 95, 96, 92, 92, 92, 92, 91, 98, 92, 92, 100, 92, 92, 92, 92, 92, 92, 91, 100, 29, 100, 96, 96, 96, 96, 30, 26, 100, 0, 96, 96, 96, 96, 96, 96, 96, 96, 96, 26, 29, 100, 100, 96, 96, 29, 96, 30, 96, 100, 100, 100, 100, 100, 30, 100, 100, 100, 100, 30, 100, 100, 100, 100, 100, 100, 100, 100, 100, 100, 100, 100, 100, 100, 100, 100, 100, 100, 30, 100, 100, 100, 30, 93, 100, 93, 93, 30, 93, 100, 100, 100, 100, 100, 100, 20, 100, 100, 100, 100, 100, 100, 100, 100, 100, 100, 100, 11, 100, 100, 100, 100, 100, 100, 30, 100, 100, 100, 100, 100, 100, 100, 100, 100, 100, 100, 100, 100, 30, 100, 100, 100, 100, 20, 100, 100, 100, 100, 100, 30, 100, 100, 100, 30, 100, 100, 100, 100, 27, 100, 100, 100, 100, 100, 100, 100, 100, 98, 100, 99, 100, 99, 100, 100, 98, 100, 100, 100, 29, 6, 3, 5, 2, 8, 7, 2, 8, 6, 9, 2, 9, 8, 1, 9, 2, 2, 1, 6, 7, 4, 5, 9, 7, 9, 1, 2, 8, 5, 2, 8, 8, 1, 4, 7, 4, 7, 8, 3, 8, 5, 9, 7, 8, 7, 1, 9, 2, 7, 5, 3, 7, 3, 8, 6, 9, 8, 9, 6, 1, 7, 8, 1, 9, 1, 7, 8, 9, 6, 7, 7, 8, 4, 6, 6, 5, 8, 8, 3, 1, 3, 3, 2, 9, 8, 3, 6, 3, 2, 7, 8, 4, 8, 3, 7, 9, 9, 3, 7, 6, 1, 1, 9, 4, 8, 7, 1, 6, 3, 20, 24, 1, 14, 2, 19, 14, 1, 18, 22, 5, 23, 16, 10, 22, 25, 14, 14, 19, 12, 15, 22, 2, 16, 7, 22, 7, 21, 21, 2, 1, 18, 6, 4, 10, 20, 9, 22, 18, 22, 8, 7, 10, 17, 7, 17, 14, 25, 2, 15, 2, 2, 21, 13, 6, 6, 300, 9, 5, 23, 7, 15, 13, 10, 7, 19, 15, 22, 3, 16, 19, 6, 18, 17, 11, 19, 4, 18, 9, 20, 16, 11, 12, 24, 14, 23, 23, 20, 2, 21, 13, 23, 18, 21, 22, 16, 23, 17, 16, 20, 23, 23, 20, 10, 14, 16, 12, 20, 8, 18, 4, 15, 22, 10, 12, 19, 2, 5, 17, 4, 15, 21, 11, 16, 14, 15, 1, 14, 15, 16, 19, 19, 10, 9, 24, 4, 22, 16, 11, 24, 19, 8, 5, 23, 1, 10, 9, 8, 89, 91, 82, 76, 92, 37, 86, 77, 78, 76, 93, 90, 75, 91, 85, 91, 93, 77, 91, 247, 242, 85, 233, 92, 237, 236, 72, 240, 239, 81, 234, 87, 238, 243, 246]\n"
     ]
    }
   ],
   "source": [
    "decile = detect_outliers_zscore(df['2ND_DECILE'])\n",
    "print(\"Outliers from Z-scores method: \", decile)"
   ]
  },
  {
   "cell_type": "code",
   "execution_count": 48,
   "id": "1219f096",
   "metadata": {},
   "outputs": [
    {
     "name": "stdout",
     "output_type": "stream",
     "text": [
      "Outliers from Z-scores method:  [100, 100, 100, 100, 100, 100, 100, 100, 100, 100, 100, 100, 100, 100, 100, 100, 100, 100, 100, 100, 100, 100, 100, 100, 100, 100, 100, 100, 100, 100, 100, 100, 100, 100, 100, 100, 100, 100, 100, 100, 100, 100, 100, 100, 100, 100, 100, 100, 100, 100, 100, 100, 100, 100, 100, 100, 100, 100, 100, 100, 100, 100, 100, 100, 100, 100, 100, 100, 26, 100, 100, 100, 100, 100, 100, 100, 100, 100, 100, 100, 100, 100, 100, 100, 100, 100, 100, 100, 100, 100, 28, 100, 100, 98, 98, 100, 26, 100, 98, 100, 98, 100, 100, 29, 100, 100, 100, 100, 100, 100, 29, 24, 100, 30, 29, 27, 100, 95, 100, 95, 100, 100, 95, 95, 100, 95, 95, 96, 95, 27, 95, 95, 95, 96, 100, 28, 28, 100, 28, 95, 96, 92, 92, 92, 92, 91, 98, 92, 92, 100, 92, 92, 92, 92, 92, 92, 91, 100, 29, 100, 96, 96, 96, 96, 30, 26, 100, 0, 96, 96, 96, 96, 96, 96, 96, 96, 96, 26, 29, 100, 100, 96, 96, 29, 96, 30, 96, 100, 100, 100, 100, 100, 30, 100, 100, 100, 100, 30, 100, 100, 100, 100, 100, 100, 100, 100, 100, 100, 100, 100, 100, 100, 100, 100, 100, 100, 30, 100, 100, 100, 30, 93, 100, 93, 93, 30, 93, 100, 100, 100, 100, 100, 100, 20, 100, 100, 100, 100, 100, 100, 100, 100, 100, 100, 100, 11, 100, 100, 100, 100, 100, 100, 30, 100, 100, 100, 100, 100, 100, 100, 100, 100, 100, 100, 100, 100, 30, 100, 100, 100, 100, 20, 100, 100, 100, 100, 100, 30, 100, 100, 100, 30, 100, 100, 100, 100, 27, 100, 100, 100, 100, 100, 100, 100, 100, 98, 100, 99, 100, 99, 100, 100, 98, 100, 100, 100, 29, 6, 3, 5, 2, 8, 7, 2, 8, 6, 9, 2, 9, 8, 1, 9, 2, 2, 1, 6, 7, 4, 5, 9, 7, 9, 1, 2, 8, 5, 2, 8, 8, 1, 4, 7, 4, 7, 8, 3, 8, 5, 9, 7, 8, 7, 1, 9, 2, 7, 5, 3, 7, 3, 8, 6, 9, 8, 9, 6, 1, 7, 8, 1, 9, 1, 7, 8, 9, 6, 7, 7, 8, 4, 6, 6, 5, 8, 8, 3, 1, 3, 3, 2, 9, 8, 3, 6, 3, 2, 7, 8, 4, 8, 3, 7, 9, 9, 3, 7, 6, 1, 1, 9, 4, 8, 7, 1, 6, 3, 20, 24, 1, 14, 2, 19, 14, 1, 18, 22, 5, 23, 16, 10, 22, 25, 14, 14, 19, 12, 15, 22, 2, 16, 7, 22, 7, 21, 21, 2, 1, 18, 6, 4, 10, 20, 9, 22, 18, 22, 8, 7, 10, 17, 7, 17, 14, 25, 2, 15, 2, 2, 21, 13, 6, 6, 300, 9, 5, 23, 7, 15, 13, 10, 7, 19, 15, 22, 3, 16, 19, 6, 18, 17, 11, 19, 4, 18, 9, 20, 16, 11, 12, 24, 14, 23, 23, 20, 2, 21, 13, 23, 18, 21, 22, 16, 23, 17, 16, 20, 23, 23, 20, 10, 14, 16, 12, 20, 8, 18, 4, 15, 22, 10, 12, 19, 2, 5, 17, 4, 15, 21, 11, 16, 14, 15, 1, 14, 15, 16, 19, 19, 10, 9, 24, 4, 22, 16, 11, 24, 19, 8, 5, 23, 1, 10, 9, 8, 89, 91, 82, 76, 92, 37, 86, 77, 78, 76, 93, 90, 75, 91, 85, 91, 93, 77, 91, 247, 242, 85, 233, 92, 237, 236, 72, 240, 239, 81, 234, 87, 238, 243, 246]\n"
     ]
    }
   ],
   "source": [
    "quartile = detect_outliers_zscore(df['QUARTILE'])\n",
    "print(\"Outliers from Z-scores method: \", quartile)"
   ]
  },
  {
   "cell_type": "code",
   "execution_count": 49,
   "id": "67140958",
   "metadata": {},
   "outputs": [
    {
     "name": "stdout",
     "output_type": "stream",
     "text": [
      "Outliers from Z-scores method:  [100, 100, 100, 100, 100, 100, 100, 100, 100, 100, 100, 100, 100, 100, 100, 100, 100, 100, 100, 100, 100, 100, 100, 100, 100, 100, 100, 100, 100, 100, 100, 100, 100, 100, 100, 100, 100, 100, 100, 100, 100, 100, 100, 100, 100, 100, 100, 100, 100, 100, 100, 100, 100, 100, 100, 100, 100, 100, 100, 100, 100, 100, 100, 100, 100, 100, 100, 100, 26, 100, 100, 100, 100, 100, 100, 100, 100, 100, 100, 100, 100, 100, 100, 100, 100, 100, 100, 100, 100, 100, 28, 100, 100, 98, 98, 100, 26, 100, 98, 100, 98, 100, 100, 29, 100, 100, 100, 100, 100, 100, 29, 24, 100, 30, 29, 27, 100, 95, 100, 95, 100, 100, 95, 95, 100, 95, 95, 96, 95, 27, 95, 95, 95, 96, 100, 28, 28, 100, 28, 95, 96, 92, 92, 92, 92, 91, 98, 92, 92, 100, 92, 92, 92, 92, 92, 92, 91, 100, 29, 100, 96, 96, 96, 96, 30, 26, 100, 0, 96, 96, 96, 96, 96, 96, 96, 96, 96, 26, 29, 100, 100, 96, 96, 29, 96, 30, 96, 100, 100, 100, 100, 100, 30, 100, 100, 100, 100, 30, 100, 100, 100, 100, 100, 100, 100, 100, 100, 100, 100, 100, 100, 100, 100, 100, 100, 100, 30, 100, 100, 100, 30, 93, 100, 93, 93, 30, 93, 100, 100, 100, 100, 100, 100, 20, 100, 100, 100, 100, 100, 100, 100, 100, 100, 100, 100, 11, 100, 100, 100, 100, 100, 100, 30, 100, 100, 100, 100, 100, 100, 100, 100, 100, 100, 100, 100, 100, 30, 100, 100, 100, 100, 20, 100, 100, 100, 100, 100, 30, 100, 100, 100, 30, 100, 100, 100, 100, 27, 100, 100, 100, 100, 100, 100, 100, 100, 98, 100, 99, 100, 99, 100, 100, 98, 100, 100, 100, 29, 6, 3, 5, 2, 8, 7, 2, 8, 6, 9, 2, 9, 8, 1, 9, 2, 2, 1, 6, 7, 4, 5, 9, 7, 9, 1, 2, 8, 5, 2, 8, 8, 1, 4, 7, 4, 7, 8, 3, 8, 5, 9, 7, 8, 7, 1, 9, 2, 7, 5, 3, 7, 3, 8, 6, 9, 8, 9, 6, 1, 7, 8, 1, 9, 1, 7, 8, 9, 6, 7, 7, 8, 4, 6, 6, 5, 8, 8, 3, 1, 3, 3, 2, 9, 8, 3, 6, 3, 2, 7, 8, 4, 8, 3, 7, 9, 9, 3, 7, 6, 1, 1, 9, 4, 8, 7, 1, 6, 3, 20, 24, 1, 14, 2, 19, 14, 1, 18, 22, 5, 23, 16, 10, 22, 25, 14, 14, 19, 12, 15, 22, 2, 16, 7, 22, 7, 21, 21, 2, 1, 18, 6, 4, 10, 20, 9, 22, 18, 22, 8, 7, 10, 17, 7, 17, 14, 25, 2, 15, 2, 2, 21, 13, 6, 6, 300, 9, 5, 23, 7, 15, 13, 10, 7, 19, 15, 22, 3, 16, 19, 6, 18, 17, 11, 19, 4, 18, 9, 20, 16, 11, 12, 24, 14, 23, 23, 20, 2, 21, 13, 23, 18, 21, 22, 16, 23, 17, 16, 20, 23, 23, 20, 10, 14, 16, 12, 20, 8, 18, 4, 15, 22, 10, 12, 19, 2, 5, 17, 4, 15, 21, 11, 16, 14, 15, 1, 14, 15, 16, 19, 19, 10, 9, 24, 4, 22, 16, 11, 24, 19, 8, 5, 23, 1, 10, 9, 8, 89, 91, 82, 76, 92, 37, 86, 77, 78, 76, 93, 90, 75, 91, 85, 91, 93, 77, 91, 247, 242, 85, 233, 92, 237, 236, 72, 240, 239, 81, 234, 87, 238, 243, 246]\n"
     ]
    }
   ],
   "source": [
    "sel = detect_outliers_zscore(df['SEL'])\n",
    "print(\"Outliers from Z-scores method: \", sel)"
   ]
  },
  {
   "cell_type": "code",
   "execution_count": 50,
   "id": "e584c8f8",
   "metadata": {},
   "outputs": [
    {
     "name": "stdout",
     "output_type": "stream",
     "text": [
      "Outliers from Z-scores method:  [100, 100, 100, 100, 100, 100, 100, 100, 100, 100, 100, 100, 100, 100, 100, 100, 100, 100, 100, 100, 100, 100, 100, 100, 100, 100, 100, 100, 100, 100, 100, 100, 100, 100, 100, 100, 100, 100, 100, 100, 100, 100, 100, 100, 100, 100, 100, 100, 100, 100, 100, 100, 100, 100, 100, 100, 100, 100, 100, 100, 100, 100, 100, 100, 100, 100, 100, 100, 26, 100, 100, 100, 100, 100, 100, 100, 100, 100, 100, 100, 100, 100, 100, 100, 100, 100, 100, 100, 100, 100, 28, 100, 100, 98, 98, 100, 26, 100, 98, 100, 98, 100, 100, 29, 100, 100, 100, 100, 100, 100, 29, 24, 100, 30, 29, 27, 100, 95, 100, 95, 100, 100, 95, 95, 100, 95, 95, 96, 95, 27, 95, 95, 95, 96, 100, 28, 28, 100, 28, 95, 96, 92, 92, 92, 92, 91, 98, 92, 92, 100, 92, 92, 92, 92, 92, 92, 91, 100, 29, 100, 96, 96, 96, 96, 30, 26, 100, 0, 96, 96, 96, 96, 96, 96, 96, 96, 96, 26, 29, 100, 100, 96, 96, 29, 96, 30, 96, 100, 100, 100, 100, 100, 30, 100, 100, 100, 100, 30, 100, 100, 100, 100, 100, 100, 100, 100, 100, 100, 100, 100, 100, 100, 100, 100, 100, 100, 30, 100, 100, 100, 30, 93, 100, 93, 93, 30, 93, 100, 100, 100, 100, 100, 100, 20, 100, 100, 100, 100, 100, 100, 100, 100, 100, 100, 100, 11, 100, 100, 100, 100, 100, 100, 30, 100, 100, 100, 100, 100, 100, 100, 100, 100, 100, 100, 100, 100, 30, 100, 100, 100, 100, 20, 100, 100, 100, 100, 100, 30, 100, 100, 100, 30, 100, 100, 100, 100, 27, 100, 100, 100, 100, 100, 100, 100, 100, 98, 100, 99, 100, 99, 100, 100, 98, 100, 100, 100, 29, 6, 3, 5, 2, 8, 7, 2, 8, 6, 9, 2, 9, 8, 1, 9, 2, 2, 1, 6, 7, 4, 5, 9, 7, 9, 1, 2, 8, 5, 2, 8, 8, 1, 4, 7, 4, 7, 8, 3, 8, 5, 9, 7, 8, 7, 1, 9, 2, 7, 5, 3, 7, 3, 8, 6, 9, 8, 9, 6, 1, 7, 8, 1, 9, 1, 7, 8, 9, 6, 7, 7, 8, 4, 6, 6, 5, 8, 8, 3, 1, 3, 3, 2, 9, 8, 3, 6, 3, 2, 7, 8, 4, 8, 3, 7, 9, 9, 3, 7, 6, 1, 1, 9, 4, 8, 7, 1, 6, 3, 20, 24, 1, 14, 2, 19, 14, 1, 18, 22, 5, 23, 16, 10, 22, 25, 14, 14, 19, 12, 15, 22, 2, 16, 7, 22, 7, 21, 21, 2, 1, 18, 6, 4, 10, 20, 9, 22, 18, 22, 8, 7, 10, 17, 7, 17, 14, 25, 2, 15, 2, 2, 21, 13, 6, 6, 300, 9, 5, 23, 7, 15, 13, 10, 7, 19, 15, 22, 3, 16, 19, 6, 18, 17, 11, 19, 4, 18, 9, 20, 16, 11, 12, 24, 14, 23, 23, 20, 2, 21, 13, 23, 18, 21, 22, 16, 23, 17, 16, 20, 23, 23, 20, 10, 14, 16, 12, 20, 8, 18, 4, 15, 22, 10, 12, 19, 2, 5, 17, 4, 15, 21, 11, 16, 14, 15, 1, 14, 15, 16, 19, 19, 10, 9, 24, 4, 22, 16, 11, 24, 19, 8, 5, 23, 1, 10, 9, 8, 89, 91, 82, 76, 92, 37, 86, 77, 78, 76, 93, 90, 75, 91, 85, 91, 93, 77, 91, 247, 242, 85, 233, 92, 237, 236, 72, 240, 239, 81, 234, 87, 238, 243, 246]\n"
     ]
    }
   ],
   "source": [
    "selihe = detect_outliers_zscore(df['SEL_IHE'])\n",
    "print(\"Outliers from Z-scores method: \", selihe)"
   ]
  },
  {
   "cell_type": "markdown",
   "id": "0e319b2a",
   "metadata": {},
   "source": [
    "## Finding IQR"
   ]
  },
  {
   "cell_type": "code",
   "execution_count": 51,
   "id": "fa284b1c",
   "metadata": {},
   "outputs": [],
   "source": [
    "def finding_Iqr(df,st):\n",
    "    #lets find the IQR (inter quantile range)\n",
    "    Q1 = df[st].quantile(0.25)\n",
    "    Q3 = df[st].quantile(0.75)\n",
    "    IQR = Q3-Q1\n",
    "    lower_boundry = Q1 -1.5*IQR\n",
    "    upper_boundry = Q3 +1.5*IQR\n",
    "    \n",
    "    return lower_boundry , upper_boundry"
   ]
  },
  {
   "cell_type": "code",
   "execution_count": 52,
   "id": "ad2d0825",
   "metadata": {},
   "outputs": [
    {
     "name": "stdout",
     "output_type": "stream",
     "text": [
      "upper limit is 96.0\n",
      "lower limit is 32.0\n"
     ]
    }
   ],
   "source": [
    "lower_MAT_S11, upper_MAT_S11 = finding_Iqr(df,'MAT_S11')\n",
    "print('upper limit is' , upper_MAT_S11)\n",
    "print('lower limit is' , lower_MAT_S11)"
   ]
  },
  {
   "cell_type": "code",
   "execution_count": 53,
   "id": "b322b644",
   "metadata": {},
   "outputs": [
    {
     "name": "stdout",
     "output_type": "stream",
     "text": [
      "upper limit is 86.5\n",
      "lower limit is 34.5\n"
     ]
    }
   ],
   "source": [
    "lower_CR_S11, upper_CR_S11 = finding_Iqr(df,'CR_S11')\n",
    "print('upper limit is' , upper_CR_S11)\n",
    "print('lower limit is' , lower_CR_S11)"
   ]
  },
  {
   "cell_type": "code",
   "execution_count": 54,
   "id": "118c7e76",
   "metadata": {},
   "outputs": [
    {
     "name": "stdout",
     "output_type": "stream",
     "text": [
      "upper limit is 86.5\n",
      "lower limit is 34.5\n"
     ]
    }
   ],
   "source": [
    "lower_CC_S11, upper_CC_S11 = finding_Iqr(df,'CC_S11')\n",
    "print('upper limit is' , upper_CC_S11)\n",
    "print('lower limit is' , lower_CC_S11)"
   ]
  },
  {
   "cell_type": "code",
   "execution_count": 55,
   "id": "0d046533",
   "metadata": {},
   "outputs": [
    {
     "name": "stdout",
     "output_type": "stream",
     "text": [
      "upper limit is 93.5\n",
      "lower limit is 33.5\n"
     ]
    }
   ],
   "source": [
    "lower_BIO_S11, upper_BIO_S11 = finding_Iqr(df,'BIO_S11')\n",
    "print('upper limit is' , upper_BIO_S11)\n",
    "print('lower limit is' , lower_BIO_S11)"
   ]
  },
  {
   "cell_type": "code",
   "execution_count": 56,
   "id": "60c483b1",
   "metadata": {},
   "outputs": [
    {
     "name": "stdout",
     "output_type": "stream",
     "text": [
      "upper limit is 105.0\n",
      "lower limit is 17.0\n"
     ]
    }
   ],
   "source": [
    "lower_ENG_S11, upper_ENG_S11 = finding_Iqr(df,'ENG_S11')\n",
    "print('upper limit is' , upper_ENG_S11)\n",
    "print('lower limit is' , lower_ENG_S11)"
   ]
  },
  {
   "cell_type": "code",
   "execution_count": 57,
   "id": "1ccee5db",
   "metadata": {},
   "outputs": [
    {
     "name": "stdout",
     "output_type": "stream",
     "text": [
      "upper limit is 142.5\n",
      "lower limit is 18.5\n"
     ]
    }
   ],
   "source": [
    "lower_QR_PRO, upper_QR_PRO = finding_Iqr(df,'QR_PRO')\n",
    "print('upper limit is' , upper_QR_PRO)\n",
    "print('lower limit is' , lower_QR_PRO)"
   ]
  },
  {
   "cell_type": "code",
   "execution_count": 58,
   "id": "9a25ca6d",
   "metadata": {},
   "outputs": [
    {
     "name": "stdout",
     "output_type": "stream",
     "text": [
      "upper limit is 152.0\n",
      "lower limit is -24.0\n"
     ]
    }
   ],
   "source": [
    "lower_CR_PRO, upper_CR_PRO = finding_Iqr(df,'CR_PRO')\n",
    "print('upper limit is' , upper_CR_PRO)\n",
    "print('lower limit is' , lower_CR_PRO)"
   ]
  },
  {
   "cell_type": "code",
   "execution_count": 59,
   "id": "7f76cc6d",
   "metadata": {},
   "outputs": [
    {
     "name": "stdout",
     "output_type": "stream",
     "text": [
      "upper limit is 152.0\n",
      "lower limit is -24.0\n"
     ]
    }
   ],
   "source": [
    "lower_ENG_PRO, upper_ENG_PRO = finding_Iqr(df,'ENG_PRO')\n",
    "print('upper limit is' , upper_CR_PRO)\n",
    "print('lower limit is' , lower_CR_PRO)"
   ]
  },
  {
   "cell_type": "code",
   "execution_count": 60,
   "id": "836efd2c",
   "metadata": {},
   "outputs": [
    {
     "name": "stdout",
     "output_type": "stream",
     "text": [
      "upper limit is 158.0\n",
      "lower limit is -50.0\n"
     ]
    }
   ],
   "source": [
    "lower_WC_PRO, upper_WC_PRO = finding_Iqr(df,'WC_PRO')\n",
    "print('upper limit is' , upper_WC_PRO)\n",
    "print('lower limit is' , lower_WC_PRO)"
   ]
  },
  {
   "cell_type": "code",
   "execution_count": 61,
   "id": "be2ec948",
   "metadata": {},
   "outputs": [
    {
     "name": "stdout",
     "output_type": "stream",
     "text": [
      "upper limit is 249.0\n",
      "lower limit is 49.0\n"
     ]
    }
   ],
   "source": [
    "lower_FEP_PRO, upper_FEP_PRO = finding_Iqr(df,'FEP_PRO')\n",
    "print('upper limit is' , upper_FEP_PRO)\n",
    "print('lower limit is' , lower_FEP_PRO)"
   ]
  },
  {
   "cell_type": "code",
   "execution_count": 62,
   "id": "03b2d0ce",
   "metadata": {},
   "outputs": [
    {
     "name": "stdout",
     "output_type": "stream",
     "text": [
      "upper limit is 227.0\n",
      "lower limit is 99.0\n"
     ]
    }
   ],
   "source": [
    "lower_G_SC, upper_G_SC = finding_Iqr(df,'G_SC')\n",
    "print('upper limit is' , upper_G_SC)\n",
    "print('lower limit is' , lower_G_SC)"
   ]
  },
  {
   "cell_type": "code",
   "execution_count": 63,
   "id": "2c632471",
   "metadata": {},
   "outputs": [
    {
     "name": "stdout",
     "output_type": "stream",
     "text": [
      "upper limit is 148.5\n",
      "lower limit is -7.5\n"
     ]
    }
   ],
   "source": [
    "lower_PERCENTILE, upper_PERCENTILE = finding_Iqr(df,'PERCENTILE')\n",
    "print('upper limit is' , upper_PERCENTILE)\n",
    "print('lower limit is' , lower_PERCENTILE)"
   ]
  },
  {
   "cell_type": "code",
   "execution_count": 64,
   "id": "7e51e528",
   "metadata": {},
   "outputs": [
    {
     "name": "stdout",
     "output_type": "stream",
     "text": [
      "upper limit is 8.0\n",
      "lower limit is 0.0\n"
     ]
    }
   ],
   "source": [
    "lower_2ND_DECILE, upper_2ND_DECILE = finding_Iqr(df,'2ND_DECILE')\n",
    "print('upper limit is' , upper_2ND_DECILE)\n",
    "print('lower limit is' , lower_2ND_DECILE)"
   ]
  },
  {
   "cell_type": "code",
   "execution_count": 65,
   "id": "438f870c",
   "metadata": {},
   "outputs": [
    {
     "name": "stdout",
     "output_type": "stream",
     "text": [
      "upper limit is 5.5\n",
      "lower limit is 1.5\n"
     ]
    }
   ],
   "source": [
    "lower_QUARTILE, upper_QUARTILE = finding_Iqr(df,'QUARTILE')\n",
    "print('upper limit is' , upper_QUARTILE)\n",
    "print('lower limit is' , lower_QUARTILE)"
   ]
  },
  {
   "cell_type": "code",
   "execution_count": 66,
   "id": "201f918c",
   "metadata": {},
   "outputs": [
    {
     "name": "stdout",
     "output_type": "stream",
     "text": [
      "upper limit is 7.0\n",
      "lower limit is -1.0\n"
     ]
    }
   ],
   "source": [
    "lower_SEL, upper_SEL = finding_Iqr(df,'SEL')\n",
    "print('upper limit is' , upper_SEL)\n",
    "print('lower limit is' , lower_SEL)"
   ]
  },
  {
   "cell_type": "code",
   "execution_count": 67,
   "id": "dabd9f57",
   "metadata": {},
   "outputs": [
    {
     "name": "stdout",
     "output_type": "stream",
     "text": [
      "upper limit is 4.5\n",
      "lower limit is 0.5\n"
     ]
    }
   ],
   "source": [
    "lower_SEL_IHE, upper_SEL_IHE = finding_Iqr(df,'SEL_IHE')\n",
    "print('upper limit is' , upper_SEL_IHE)\n",
    "print('lower limit is' , lower_SEL_IHE)"
   ]
  },
  {
   "cell_type": "markdown",
   "id": "784cd071",
   "metadata": {},
   "source": [
    "## Removing Outliers"
   ]
  },
  {
   "cell_type": "code",
   "execution_count": 68,
   "id": "aa0cc918",
   "metadata": {},
   "outputs": [
    {
     "data": {
      "text/plain": [
       "array([False, False, False, ..., False, False, False])"
      ]
     },
     "execution_count": 68,
     "metadata": {},
     "output_type": "execute_result"
    }
   ],
   "source": [
    "#Removing Outliers\n",
    "outliers_MAT_S11 = np.where(df['MAT_S11'] > upper_MAT_S11,True ,np.where(df['MAT_S11']< lower_MAT_S11, True , False))\n",
    "outliers_MAT_S11"
   ]
  },
  {
   "cell_type": "code",
   "execution_count": 69,
   "id": "e4f22337",
   "metadata": {},
   "outputs": [
    {
     "data": {
      "text/plain": [
       "array([False, False, False, ..., False, False, False])"
      ]
     },
     "execution_count": 69,
     "metadata": {},
     "output_type": "execute_result"
    }
   ],
   "source": [
    "#Removing Outliers\n",
    "outliers_CR_S11 = np.where(df['CR_S11'] > upper_CR_S11,True ,np.where(df['CR_S11']< lower_CR_S11, True , False))\n",
    "outliers_CR_S11"
   ]
  },
  {
   "cell_type": "code",
   "execution_count": 70,
   "id": "07d8ffba",
   "metadata": {},
   "outputs": [
    {
     "data": {
      "text/plain": [
       "array([False, False, False, ..., False, False, False])"
      ]
     },
     "execution_count": 70,
     "metadata": {},
     "output_type": "execute_result"
    }
   ],
   "source": [
    "#Removing Outliers\n",
    "outliers_CC_S11 = np.where(df['CC_S11'] > upper_CC_S11,True ,np.where(df['CC_S11']< lower_CC_S11, True , False))\n",
    "outliers_CC_S11"
   ]
  },
  {
   "cell_type": "code",
   "execution_count": 71,
   "id": "a5c8f5ab",
   "metadata": {},
   "outputs": [
    {
     "data": {
      "text/plain": [
       "array([False,  True, False, ..., False, False, False])"
      ]
     },
     "execution_count": 71,
     "metadata": {},
     "output_type": "execute_result"
    }
   ],
   "source": [
    "#Removing Outliers\n",
    "outliers_BIO_S11 = np.where(df['BIO_S11'] > upper_BIO_S11,True ,np.where(df['BIO_S11']< lower_BIO_S11, True , False))\n",
    "outliers_BIO_S11"
   ]
  },
  {
   "cell_type": "code",
   "execution_count": 72,
   "id": "aca74d6e",
   "metadata": {},
   "outputs": [
    {
     "data": {
      "text/plain": [
       "array([False, False,  True, ..., False, False, False])"
      ]
     },
     "execution_count": 72,
     "metadata": {},
     "output_type": "execute_result"
    }
   ],
   "source": [
    "#Removing Outliers\n",
    "outliers_QR_PRO = np.where(df['QR_PRO'] > upper_QR_PRO,True ,np.where(df['QR_PRO']< lower_QR_PRO, True , False))\n",
    "outliers_QR_PRO"
   ]
  },
  {
   "cell_type": "code",
   "execution_count": 73,
   "id": "0ae74acc",
   "metadata": {},
   "outputs": [
    {
     "data": {
      "text/plain": [
       "array([False, False, False, ..., False, False, False])"
      ]
     },
     "execution_count": 73,
     "metadata": {},
     "output_type": "execute_result"
    }
   ],
   "source": [
    "#Removing Outliers\n",
    "outliers_FEP_PRO = np.where(df['FEP_PRO'] > upper_FEP_PRO,True ,np.where(df['FEP_PRO']< lower_FEP_PRO, True , False))\n",
    "outliers_FEP_PRO"
   ]
  },
  {
   "cell_type": "code",
   "execution_count": 74,
   "id": "dd51816d",
   "metadata": {},
   "outputs": [
    {
     "data": {
      "text/plain": [
       "array([False, False, False, ..., False, False, False])"
      ]
     },
     "execution_count": 74,
     "metadata": {},
     "output_type": "execute_result"
    }
   ],
   "source": [
    "#Removing Outliers\n",
    "outliers_G_SC = np.where(df['G_SC'] > upper_G_SC,True ,np.where(df['G_SC']< lower_G_SC, True , False))\n",
    "outliers_G_SC"
   ]
  },
  {
   "cell_type": "code",
   "execution_count": 75,
   "id": "00cb77f6",
   "metadata": {},
   "outputs": [
    {
     "data": {
      "text/plain": [
       "array([False, False,  True, ..., False, False, False])"
      ]
     },
     "execution_count": 75,
     "metadata": {},
     "output_type": "execute_result"
    }
   ],
   "source": [
    "#Removing Outliers\n",
    "outliers_QUARTILE = np.where(df['QUARTILE'] > upper_QUARTILE,True ,np.where(df['QUARTILE']< lower_QUARTILE, True , False))\n",
    "outliers_QUARTILE"
   ]
  },
  {
   "cell_type": "code",
   "execution_count": 76,
   "id": "a46fad3c",
   "metadata": {},
   "outputs": [],
   "source": [
    "df['MAT_S11']= np.where(df['MAT_S11']> upper_MAT_S11 , upper_MAT_S11,np.where(df['MAT_S11'] < lower_MAT_S11 , lower_MAT_S11 ,df['MAT_S11']))\n",
    "df['CR_S11']= np.where(df['CR_S11']> upper_CR_S11 , upper_CR_S11,np.where(df['CR_S11'] < lower_CR_S11 , lower_CR_S11 ,df['CR_S11']))\n",
    "df['CC_S11']= np.where(df['CC_S11']> upper_CC_S11 , upper_CC_S11,np.where(df['CC_S11'] < lower_CC_S11 , lower_CC_S11,df['CC_S11']))\n",
    "df['BIO_S11']= np.where(df['BIO_S11']> upper_BIO_S11 , upper_BIO_S11,np.where(df['BIO_S11'] < lower_BIO_S11 , lower_BIO_S11,df['BIO_S11']))\n",
    "df['QR_PRO']= np.where(df['QR_PRO']> upper_QR_PRO , upper_QR_PRO,np.where(df['QR_PRO'] < lower_QR_PRO , lower_QR_PRO,df['QR_PRO']))\n",
    "df['FEP_PRO']= np.where(df['FEP_PRO']> upper_FEP_PRO , upper_FEP_PRO,np.where(df['FEP_PRO'] < lower_FEP_PRO , lower_FEP_PRO,df['FEP_PRO']))\n",
    "df['G_SC']= np.where(df['G_SC']> upper_G_SC , upper_G_SC,np.where(df['G_SC'] < lower_G_SC , lower_G_SC,df['G_SC']))\n",
    "df['QUARTILE']= np.where(df['QUARTILE']> upper_QUARTILE , upper_QUARTILE,np.where(df['QUARTILE'] < lower_QUARTILE , lower_QUARTILE,df['QUARTILE']))"
   ]
  },
  {
   "cell_type": "markdown",
   "id": "15867c1c",
   "metadata": {},
   "source": [
    "## After Removing Outliers"
   ]
  },
  {
   "cell_type": "code",
   "execution_count": 77,
   "id": "0fb4fd9b",
   "metadata": {},
   "outputs": [],
   "source": [
    "def boxplt(df,st):\n",
    "    plt.figure(figsize=(16,4))\n",
    "    plt.subplot(1,2,2)\n",
    "    sns.boxplot(df[st])\n",
    "    plt.show()"
   ]
  },
  {
   "cell_type": "code",
   "execution_count": 78,
   "id": "0317852f",
   "metadata": {},
   "outputs": [
    {
     "data": {
      "image/png": "[encoded data removed]",
      "text/plain": [
       "<Figure size 1152x288 with 1 Axes>"
      ]
     },
     "metadata": {
      "needs_background": "light"
     },
     "output_type": "display_data"
    }
   ],
   "source": [
    "boxplt(df, 'MAT_S11')"
   ]
  },
  {
   "cell_type": "code",
   "execution_count": 79,
   "id": "fbe3433b",
   "metadata": {},
   "outputs": [
    {
     "data": {
      "image/png": "[encoded data removed]",
      "text/plain": [
       "<Figure size 1152x288 with 1 Axes>"
      ]
     },
     "metadata": {
      "needs_background": "light"
     },
     "output_type": "display_data"
    }
   ],
   "source": [
    "boxplt(df, 'CR_S11')"
   ]
  },
  {
   "cell_type": "code",
   "execution_count": 80,
   "id": "37c6bb3f",
   "metadata": {},
   "outputs": [
    {
     "data": {
      "image/png": "[encoded data removed]",
      "text/plain": [
       "<Figure size 1152x288 with 1 Axes>"
      ]
     },
     "metadata": {
      "needs_background": "light"
     },
     "output_type": "display_data"
    }
   ],
   "source": [
    "boxplt(df, 'CC_S11')"
   ]
  },
  {
   "cell_type": "code",
   "execution_count": 81,
   "id": "f78e5fa7",
   "metadata": {},
   "outputs": [
    {
     "data": {
      "image/png": "[encoded data removed]",
      "text/plain": [
       "<Figure size 1152x288 with 1 Axes>"
      ]
     },
     "metadata": {
      "needs_background": "light"
     },
     "output_type": "display_data"
    }
   ],
   "source": [
    "boxplt(df, 'BIO_S11')"
   ]
  },
  {
   "cell_type": "code",
   "execution_count": 82,
   "id": "83c4d3ff",
   "metadata": {},
   "outputs": [
    {
     "data": {
      "image/png": "[encoded data removed]",
      "text/plain": [
       "<Figure size 1152x288 with 1 Axes>"
      ]
     },
     "metadata": {
      "needs_background": "light"
     },
     "output_type": "display_data"
    }
   ],
   "source": [
    "boxplt(df, 'QR_PRO')"
   ]
  },
  {
   "cell_type": "code",
   "execution_count": 83,
   "id": "c0d12005",
   "metadata": {},
   "outputs": [
    {
     "data": {
      "image/png": "[encoded data removed]",
      "text/plain": [
       "<Figure size 1152x288 with 1 Axes>"
      ]
     },
     "metadata": {
      "needs_background": "light"
     },
     "output_type": "display_data"
    }
   ],
   "source": [
    "boxplt(df, 'FEP_PRO')"
   ]
  },
  {
   "cell_type": "code",
   "execution_count": 84,
   "id": "aec6a21e",
   "metadata": {},
   "outputs": [
    {
     "data": {
      "image/png": "[encoded data removed]",
      "text/plain": [
       "<Figure size 1152x288 with 1 Axes>"
      ]
     },
     "metadata": {
      "needs_background": "light"
     },
     "output_type": "display_data"
    }
   ],
   "source": [
    "boxplt(df, 'G_SC')"
   ]
  },
  {
   "cell_type": "code",
   "execution_count": 85,
   "id": "437d13ec",
   "metadata": {},
   "outputs": [
    {
     "data": {
      "image/png": "[encoded data removed]",
      "text/plain": [
       "<Figure size 1152x288 with 1 Axes>"
      ]
     },
     "metadata": {
      "needs_background": "light"
     },
     "output_type": "display_data"
    }
   ],
   "source": [
    "boxplt(df, 'QUARTILE')"
   ]
  },
  {
   "cell_type": "markdown",
   "id": "8034eef1",
   "metadata": {},
   "source": [
    "3. Apply data transformations on at least one of the variables. The purpose of this transformation should be one of the following reasons: to change the scale for better understanding of the variable, to convert a non-linear relation into a linear one, or to decrease the skewness and convert the distribution into a normal distribution."
   ]
  },
  {
   "cell_type": "code",
   "execution_count": 86,
   "id": "7ed71100",
   "metadata": {},
   "outputs": [
    {
     "data": {
      "text/html": [
       "<div>\n",
       "<style scoped>\n",
       "    .dataframe tbody tr th:only-of-type {\n",
       "        vertical-align: middle;\n",
       "    }\n",
       "\n",
       "    .dataframe tbody tr th {\n",
       "        vertical-align: top;\n",
       "    }\n",
       "\n",
       "    .dataframe thead th {\n",
       "        text-align: right;\n",
       "    }\n",
       "</style>\n",
       "<table border=\"1\" class=\"dataframe\">\n",
       "  <thead>\n",
       "    <tr style=\"text-align: right;\">\n",
       "      <th></th>\n",
       "      <th>COD_S11</th>\n",
       "      <th>GENDER</th>\n",
       "      <th>EDU_FATHER</th>\n",
       "      <th>EDU_MOTHER</th>\n",
       "      <th>OCC_FATHER</th>\n",
       "      <th>OCC_MOTHER</th>\n",
       "      <th>STRATUM</th>\n",
       "      <th>SISBEN</th>\n",
       "      <th>PEOPLE_HOUSE</th>\n",
       "      <th>INTERNET</th>\n",
       "      <th>...</th>\n",
       "      <th>CC_PRO</th>\n",
       "      <th>ENG_PRO</th>\n",
       "      <th>WC_PRO</th>\n",
       "      <th>FEP_PRO</th>\n",
       "      <th>G_SC</th>\n",
       "      <th>PERCENTILE</th>\n",
       "      <th>2ND_DECILE</th>\n",
       "      <th>QUARTILE</th>\n",
       "      <th>SEL</th>\n",
       "      <th>SEL_IHE</th>\n",
       "    </tr>\n",
       "  </thead>\n",
       "  <tbody>\n",
       "    <tr>\n",
       "      <th>0</th>\n",
       "      <td>SB11201210000129</td>\n",
       "      <td>F</td>\n",
       "      <td>Incomplete Professional Education</td>\n",
       "      <td>Complete technique or technology</td>\n",
       "      <td>Technical or professional level employee</td>\n",
       "      <td>Home</td>\n",
       "      <td>Stratum 4</td>\n",
       "      <td>It is not classified by the SISBEN</td>\n",
       "      <td>Three</td>\n",
       "      <td>Yes</td>\n",
       "      <td>...</td>\n",
       "      <td>71</td>\n",
       "      <td>93</td>\n",
       "      <td>79</td>\n",
       "      <td>181.0</td>\n",
       "      <td>180.0</td>\n",
       "      <td>91</td>\n",
       "      <td>5</td>\n",
       "      <td>4.0</td>\n",
       "      <td>2</td>\n",
       "      <td>2</td>\n",
       "    </tr>\n",
       "    <tr>\n",
       "      <th>1</th>\n",
       "      <td>SB11201210000137</td>\n",
       "      <td>F</td>\n",
       "      <td>Complete Secundary</td>\n",
       "      <td>Complete professional education</td>\n",
       "      <td>Entrepreneur</td>\n",
       "      <td>Independent professional</td>\n",
       "      <td>Stratum 5</td>\n",
       "      <td>It is not classified by the SISBEN</td>\n",
       "      <td>Three</td>\n",
       "      <td>Yes</td>\n",
       "      <td>...</td>\n",
       "      <td>86</td>\n",
       "      <td>98</td>\n",
       "      <td>78</td>\n",
       "      <td>201.0</td>\n",
       "      <td>182.0</td>\n",
       "      <td>92</td>\n",
       "      <td>5</td>\n",
       "      <td>4.0</td>\n",
       "      <td>4</td>\n",
       "      <td>4</td>\n",
       "    </tr>\n",
       "    <tr>\n",
       "      <th>2</th>\n",
       "      <td>SB11201210005154</td>\n",
       "      <td>M</td>\n",
       "      <td>Not sure</td>\n",
       "      <td>Not sure</td>\n",
       "      <td>Independent</td>\n",
       "      <td>Home</td>\n",
       "      <td>Stratum 2</td>\n",
       "      <td>Level 2</td>\n",
       "      <td>Five</td>\n",
       "      <td>No</td>\n",
       "      <td>...</td>\n",
       "      <td>18</td>\n",
       "      <td>43</td>\n",
       "      <td>22</td>\n",
       "      <td>113.0</td>\n",
       "      <td>113.0</td>\n",
       "      <td>7</td>\n",
       "      <td>1</td>\n",
       "      <td>1.5</td>\n",
       "      <td>1</td>\n",
       "      <td>1</td>\n",
       "    </tr>\n",
       "    <tr>\n",
       "      <th>3</th>\n",
       "      <td>SB11201210007504</td>\n",
       "      <td>F</td>\n",
       "      <td>Not sure</td>\n",
       "      <td>Not sure</td>\n",
       "      <td>Other occupation</td>\n",
       "      <td>Independent</td>\n",
       "      <td>Stratum 2</td>\n",
       "      <td>It is not classified by the SISBEN</td>\n",
       "      <td>Three</td>\n",
       "      <td>Yes</td>\n",
       "      <td>...</td>\n",
       "      <td>76</td>\n",
       "      <td>80</td>\n",
       "      <td>48</td>\n",
       "      <td>137.0</td>\n",
       "      <td>157.0</td>\n",
       "      <td>67</td>\n",
       "      <td>4</td>\n",
       "      <td>3.0</td>\n",
       "      <td>2</td>\n",
       "      <td>2</td>\n",
       "    </tr>\n",
       "    <tr>\n",
       "      <th>4</th>\n",
       "      <td>SB11201210007548</td>\n",
       "      <td>M</td>\n",
       "      <td>Complete professional education</td>\n",
       "      <td>Complete professional education</td>\n",
       "      <td>Executive</td>\n",
       "      <td>Home</td>\n",
       "      <td>Stratum 4</td>\n",
       "      <td>It is not classified by the SISBEN</td>\n",
       "      <td>One</td>\n",
       "      <td>Yes</td>\n",
       "      <td>...</td>\n",
       "      <td>98</td>\n",
       "      <td>100</td>\n",
       "      <td>71</td>\n",
       "      <td>189.0</td>\n",
       "      <td>198.0</td>\n",
       "      <td>98</td>\n",
       "      <td>5</td>\n",
       "      <td>4.0</td>\n",
       "      <td>4</td>\n",
       "      <td>2</td>\n",
       "    </tr>\n",
       "  </tbody>\n",
       "</table>\n",
       "<p>5 rows × 44 columns</p>\n",
       "</div>"
      ],
      "text/plain": [
       "            COD_S11 GENDER                         EDU_FATHER  \\\n",
       "0  SB11201210000129      F  Incomplete Professional Education   \n",
       "1  SB11201210000137      F                 Complete Secundary   \n",
       "2  SB11201210005154      M                           Not sure   \n",
       "3  SB11201210007504      F                           Not sure   \n",
       "4  SB11201210007548      M    Complete professional education   \n",
       "\n",
       "                         EDU_MOTHER                                OCC_FATHER  \\\n",
       "0  Complete technique or technology  Technical or professional level employee   \n",
       "1   Complete professional education                             Entrepreneur    \n",
       "2                          Not sure                               Independent   \n",
       "3                          Not sure                          Other occupation   \n",
       "4   Complete professional education                                 Executive   \n",
       "\n",
       "                 OCC_MOTHER    STRATUM                              SISBEN  \\\n",
       "0                      Home  Stratum 4  It is not classified by the SISBEN   \n",
       "1  Independent professional  Stratum 5  It is not classified by the SISBEN   \n",
       "2                      Home  Stratum 2                             Level 2   \n",
       "3               Independent  Stratum 2  It is not classified by the SISBEN   \n",
       "4                      Home  Stratum 4  It is not classified by the SISBEN   \n",
       "\n",
       "  PEOPLE_HOUSE INTERNET  ... CC_PRO ENG_PRO WC_PRO FEP_PRO   G_SC PERCENTILE  \\\n",
       "0        Three      Yes  ...     71      93     79   181.0  180.0         91   \n",
       "1        Three      Yes  ...     86      98     78   201.0  182.0         92   \n",
       "2         Five       No  ...     18      43     22   113.0  113.0          7   \n",
       "3        Three      Yes  ...     76      80     48   137.0  157.0         67   \n",
       "4          One      Yes  ...     98     100     71   189.0  198.0         98   \n",
       "\n",
       "  2ND_DECILE QUARTILE SEL SEL_IHE  \n",
       "0          5      4.0   2       2  \n",
       "1          5      4.0   4       4  \n",
       "2          1      1.5   1       1  \n",
       "3          4      3.0   2       2  \n",
       "4          5      4.0   4       2  \n",
       "\n",
       "[5 rows x 44 columns]"
      ]
     },
     "execution_count": 86,
     "metadata": {},
     "output_type": "execute_result"
    }
   ],
   "source": [
    "df.head()"
   ]
  },
  {
   "cell_type": "code",
   "execution_count": 87,
   "id": "6adf36a7",
   "metadata": {},
   "outputs": [
    {
     "data": {
      "image/png": "[encoded data removed]",
      "text/plain": [
       "<Figure size 864x864 with 20 Axes>"
      ]
     },
     "metadata": {
      "needs_background": "light"
     },
     "output_type": "display_data"
    }
   ],
   "source": [
    "df.hist(figsize=(12,12))\n",
    "plt.show()"
   ]
  },
  {
   "cell_type": "code",
   "execution_count": 88,
   "id": "2bb1b0f3",
   "metadata": {},
   "outputs": [],
   "source": [
    "X = df.iloc[:,[24,25,26,27,28,32,33,34,35,36,37,38,39,40]]"
   ]
  },
  {
   "cell_type": "code",
   "execution_count": 89,
   "id": "33dcc7da",
   "metadata": {},
   "outputs": [
    {
     "data": {
      "text/html": [
       "<div>\n",
       "<style scoped>\n",
       "    .dataframe tbody tr th:only-of-type {\n",
       "        vertical-align: middle;\n",
       "    }\n",
       "\n",
       "    .dataframe tbody tr th {\n",
       "        vertical-align: top;\n",
       "    }\n",
       "\n",
       "    .dataframe thead th {\n",
       "        text-align: right;\n",
       "    }\n",
       "</style>\n",
       "<table border=\"1\" class=\"dataframe\">\n",
       "  <thead>\n",
       "    <tr style=\"text-align: right;\">\n",
       "      <th></th>\n",
       "      <th>MAT_S11</th>\n",
       "      <th>CR_S11</th>\n",
       "      <th>CC_S11</th>\n",
       "      <th>BIO_S11</th>\n",
       "      <th>ENG_S11</th>\n",
       "      <th>QR_PRO</th>\n",
       "      <th>CR_PRO</th>\n",
       "      <th>CC_PRO</th>\n",
       "      <th>ENG_PRO</th>\n",
       "      <th>WC_PRO</th>\n",
       "      <th>FEP_PRO</th>\n",
       "      <th>G_SC</th>\n",
       "      <th>PERCENTILE</th>\n",
       "      <th>2ND_DECILE</th>\n",
       "    </tr>\n",
       "  </thead>\n",
       "  <tbody>\n",
       "    <tr>\n",
       "      <th>0</th>\n",
       "      <td>71.0</td>\n",
       "      <td>81.0</td>\n",
       "      <td>61.0</td>\n",
       "      <td>86.0</td>\n",
       "      <td>82</td>\n",
       "      <td>71.0</td>\n",
       "      <td>93</td>\n",
       "      <td>71</td>\n",
       "      <td>93</td>\n",
       "      <td>79</td>\n",
       "      <td>181.0</td>\n",
       "      <td>180.0</td>\n",
       "      <td>91</td>\n",
       "      <td>5</td>\n",
       "    </tr>\n",
       "    <tr>\n",
       "      <th>1</th>\n",
       "      <td>83.0</td>\n",
       "      <td>75.0</td>\n",
       "      <td>66.0</td>\n",
       "      <td>93.5</td>\n",
       "      <td>88</td>\n",
       "      <td>97.0</td>\n",
       "      <td>38</td>\n",
       "      <td>86</td>\n",
       "      <td>98</td>\n",
       "      <td>78</td>\n",
       "      <td>201.0</td>\n",
       "      <td>182.0</td>\n",
       "      <td>92</td>\n",
       "      <td>5</td>\n",
       "    </tr>\n",
       "    <tr>\n",
       "      <th>2</th>\n",
       "      <td>52.0</td>\n",
       "      <td>49.0</td>\n",
       "      <td>38.0</td>\n",
       "      <td>46.0</td>\n",
       "      <td>42</td>\n",
       "      <td>18.5</td>\n",
       "      <td>1</td>\n",
       "      <td>18</td>\n",
       "      <td>43</td>\n",
       "      <td>22</td>\n",
       "      <td>113.0</td>\n",
       "      <td>113.0</td>\n",
       "      <td>7</td>\n",
       "      <td>1</td>\n",
       "    </tr>\n",
       "    <tr>\n",
       "      <th>3</th>\n",
       "      <td>56.0</td>\n",
       "      <td>55.0</td>\n",
       "      <td>51.0</td>\n",
       "      <td>64.0</td>\n",
       "      <td>73</td>\n",
       "      <td>65.0</td>\n",
       "      <td>35</td>\n",
       "      <td>76</td>\n",
       "      <td>80</td>\n",
       "      <td>48</td>\n",
       "      <td>137.0</td>\n",
       "      <td>157.0</td>\n",
       "      <td>67</td>\n",
       "      <td>4</td>\n",
       "    </tr>\n",
       "    <tr>\n",
       "      <th>4</th>\n",
       "      <td>80.0</td>\n",
       "      <td>65.0</td>\n",
       "      <td>76.0</td>\n",
       "      <td>85.0</td>\n",
       "      <td>92</td>\n",
       "      <td>94.0</td>\n",
       "      <td>94</td>\n",
       "      <td>98</td>\n",
       "      <td>100</td>\n",
       "      <td>71</td>\n",
       "      <td>189.0</td>\n",
       "      <td>198.0</td>\n",
       "      <td>98</td>\n",
       "      <td>5</td>\n",
       "    </tr>\n",
       "  </tbody>\n",
       "</table>\n",
       "</div>"
      ],
      "text/plain": [
       "   MAT_S11  CR_S11  CC_S11  BIO_S11  ENG_S11  QR_PRO  CR_PRO  CC_PRO  ENG_PRO  \\\n",
       "0     71.0    81.0    61.0     86.0       82    71.0      93      71       93   \n",
       "1     83.0    75.0    66.0     93.5       88    97.0      38      86       98   \n",
       "2     52.0    49.0    38.0     46.0       42    18.5       1      18       43   \n",
       "3     56.0    55.0    51.0     64.0       73    65.0      35      76       80   \n",
       "4     80.0    65.0    76.0     85.0       92    94.0      94      98      100   \n",
       "\n",
       "   WC_PRO  FEP_PRO   G_SC  PERCENTILE  2ND_DECILE  \n",
       "0      79    181.0  180.0          91           5  \n",
       "1      78    201.0  182.0          92           5  \n",
       "2      22    113.0  113.0           7           1  \n",
       "3      48    137.0  157.0          67           4  \n",
       "4      71    189.0  198.0          98           5  "
      ]
     },
     "execution_count": 89,
     "metadata": {},
     "output_type": "execute_result"
    }
   ],
   "source": [
    "X.head(5)"
   ]
  },
  {
   "cell_type": "code",
   "execution_count": 90,
   "id": "d9babfcb",
   "metadata": {},
   "outputs": [],
   "source": [
    "from sklearn.preprocessing import MinMaxScaler"
   ]
  },
  {
   "cell_type": "code",
   "execution_count": 91,
   "id": "5dc5a443",
   "metadata": {
    "scrolled": false
   },
   "outputs": [
    {
     "data": {
      "text/plain": [
       "MinMaxScaler()"
      ]
     },
     "execution_count": 91,
     "metadata": {},
     "output_type": "execute_result"
    }
   ],
   "source": [
    "scaler=MinMaxScaler(feature_range=(0, 1))\n",
    "scaler.fit(X)"
   ]
  },
  {
   "cell_type": "code",
   "execution_count": 92,
   "id": "e8c22db2",
   "metadata": {},
   "outputs": [],
   "source": [
    "scaled_data=scaler.transform(X)"
   ]
  },
  {
   "cell_type": "code",
   "execution_count": 93,
   "id": "f76dc657",
   "metadata": {},
   "outputs": [
    {
     "data": {
      "text/plain": [
       "array([[0.609375  , 0.89423077, 0.50961538, ..., 0.6328125 , 0.90909091,\n",
       "        1.        ],\n",
       "       [0.796875  , 0.77884615, 0.60576923, ..., 0.6484375 , 0.91919192,\n",
       "        1.        ],\n",
       "       [0.3125    , 0.27884615, 0.06730769, ..., 0.109375  , 0.06060606,\n",
       "        0.        ],\n",
       "       ...,\n",
       "       [0.53125   , 0.66346154, 0.77884615, ..., 0.6953125 , 0.94949495,\n",
       "        1.        ],\n",
       "       [0.328125  , 0.66346154, 0.56730769, ..., 0.3671875 , 0.49494949,\n",
       "        0.5       ],\n",
       "       [0.734375  , 0.58653846, 0.52884615, ..., 0.6171875 , 0.88888889,\n",
       "        1.        ]])"
      ]
     },
     "execution_count": 93,
     "metadata": {},
     "output_type": "execute_result"
    }
   ],
   "source": [
    "scaled_data"
   ]
  },
  {
   "cell_type": "markdown",
   "id": "ed075a35",
   "metadata": {},
   "source": [
    "---------------END---------------"
   ]
  }
 ],
 "metadata": {
  "kernelspec": {
   "display_name": "Python 3 (ipykernel)",
   "language": "python",
   "name": "python3"
  },
  "language_info": {
   "codemirror_mode": {
    "name": "ipython",
    "version": 3
   },
   "file_extension": ".py",
   "mimetype": "text/x-python",
   "name": "python",
   "nbconvert_exporter": "python",
   "pygments_lexer": "ipython3",
   "version": "3.8.10"
  }
 },
 "nbformat": 4,
 "nbformat_minor": 5
}
